{
 "cells": [
  {
   "cell_type": "code",
   "execution_count": 54,
   "id": "60d9140a",
   "metadata": {},
   "outputs": [],
   "source": [
    "import elasticsearch\n",
    "from elasticsearch import Elasticsearch\n",
    "from faker import Faker\n",
    "fake = Faker()"
   ]
  },
  {
   "cell_type": "code",
   "execution_count": 55,
   "id": "b7b2a25d",
   "metadata": {},
   "outputs": [],
   "source": [
    "from elasticsearch import helpers"
   ]
  },
  {
   "cell_type": "code",
   "execution_count": 13,
   "id": "e904355d",
   "metadata": {},
   "outputs": [],
   "source": [
    "#es = Elasticsearch(\"https://localhost:9200\")"
   ]
  },
  {
   "cell_type": "code",
   "execution_count": 56,
   "id": "a58c6ad1",
   "metadata": {},
   "outputs": [
    {
     "data": {
      "text/plain": [
       "ObjectApiResponse({'name': 'node1', 'cluster_name': 'horlad', 'cluster_uuid': 'cRFEMcgIQ1eKgGv7vMlABA', 'version': {'number': '8.2.0', 'build_flavor': 'default', 'build_type': 'tar', 'build_hash': 'b174af62e8dd9f4ac4d25875e9381ffe2b9282c5', 'build_date': '2022-04-20T10:35:10.180408517Z', 'build_snapshot': False, 'lucene_version': '9.1.0', 'minimum_wire_compatibility_version': '7.17.0', 'minimum_index_compatibility_version': '7.0.0'}, 'tagline': 'You Know, for Search'})"
      ]
     },
     "execution_count": 56,
     "metadata": {},
     "output_type": "execute_result"
    }
   ],
   "source": [
    "ELASTIC_PASSWORD = \"rjCJpK2VB4UHVu*NvoyA\"\n",
    "# Create the client instance\n",
    "client = Elasticsearch(\n",
    "    \"https://localhost:9200\",\n",
    "    ca_certs=\"/home/adduser/elasticsearch-8.2.0/config/certs/http_ca.crt\",\n",
    "    basic_auth=(\"elastic\", ELASTIC_PASSWORD)\n",
    ")\n",
    "\n",
    "# Successful response!\n",
    "client.info()"
   ]
  },
  {
   "cell_type": "code",
   "execution_count": 16,
   "id": "fa816766",
   "metadata": {},
   "outputs": [],
   "source": [
    "doc = {\"name\":fake.name(), \"street\": fake.street_address(), \"city\": fake.city(), \"zip\": fake.zipcode() }\n",
    "#inserting single document"
   ]
  },
  {
   "cell_type": "code",
   "execution_count": 17,
   "id": "3239fcee",
   "metadata": {},
   "outputs": [
    {
     "name": "stdout",
     "output_type": "stream",
     "text": [
      "created\n"
     ]
    }
   ],
   "source": [
    "res = client.index(index=\"users\", document=doc)\n",
    "print(res['result'])\n"
   ]
  },
  {
   "cell_type": "code",
   "execution_count": 18,
   "id": "a54d6f49",
   "metadata": {},
   "outputs": [],
   "source": [
    "actions =[{\n",
    "    \"_index\": \"users\",\n",
    "#     \"_type\": \"document\",\n",
    "    \"_source\":{\n",
    "        \"name\": fake.name(),\n",
    "        \"street\": fake.street_address(),\n",
    "        \"city\": fake.city(),\n",
    "        \"zip\": fake.zipcode()}\n",
    "   }\n",
    "for n in range(998)]"
   ]
  },
  {
   "cell_type": "code",
   "execution_count": 19,
   "id": "36844a03",
   "metadata": {},
   "outputs": [
    {
     "name": "stdout",
     "output_type": "stream",
     "text": [
      "998\n"
     ]
    }
   ],
   "source": [
    "res = helpers.bulk(client, actions) #helpers library use to insert bulk or many document at once\n",
    "print(res[0])"
   ]
  },
  {
   "cell_type": "code",
   "execution_count": 20,
   "id": "9d21ce46",
   "metadata": {},
   "outputs": [],
   "source": [
    "doc = {\"query\": {\"match_all\":{}}}"
   ]
  },
  {
   "cell_type": "code",
   "execution_count": 24,
   "id": "e675ce54",
   "metadata": {},
   "outputs": [
    {
     "name": "stderr",
     "output_type": "stream",
     "text": [
      "/home/adduser/.local/lib/python3.6/site-packages/ipykernel_launcher.py:1: DeprecationWarning: The 'body' parameter is deprecated and will be removed in a future version. Instead use individual parameters.\n",
      "  \"\"\"Entry point for launching an IPython kernel.\n"
     ]
    }
   ],
   "source": [
    "res = client.search(body={\"query\": {\"match_all\":{}}}, index=\"users\",size=10)"
   ]
  },
  {
   "cell_type": "code",
   "execution_count": 25,
   "id": "f3905faa",
   "metadata": {},
   "outputs": [
    {
     "name": "stdout",
     "output_type": "stream",
     "text": [
      "{'took': 776, 'timed_out': False, '_shards': {'total': 1, 'successful': 1, 'skipped': 0, 'failed': 0}, 'hits': {'total': {'value': 1999, 'relation': 'eq'}, 'max_score': 1.0, 'hits': [{'_index': 'users', '_id': 'HIGhFYEBtgHTAbM7xYfG', '_score': 1.0, '_source': {'name': 'Jennifer Miller', 'street': '58481 Bennett Points Apt. 751', 'city': 'Port Anthonyland', 'zip': '17782'}}, {'_index': 'users', '_id': 'HYGhFYEBtgHTAbM7-IfY', '_score': 1.0, '_source': {'name': 'Nicole Ho', 'street': '594 Henry Crossroad Suite 789', 'city': 'Michaelborough', 'zip': '71037'}}, {'_index': 'users', '_id': 'HoGiFYEBtgHTAbM7FIfg', '_score': 1.0, '_source': {'name': 'Emily Drake', 'stret': '2027 Kathryn Village', 'city': 'Ericland', 'zip': '04162'}}, {'_index': 'users', '_id': 'H4GiFYEBtgHTAbM7FIfg', '_score': 1.0, '_source': {'name': 'Ashley Collier', 'stret': '300 Guzman Summit Apt. 337', 'city': 'West Jessica', 'zip': '43306'}}, {'_index': 'users', '_id': 'IIGiFYEBtgHTAbM7FIfg', '_score': 1.0, '_source': {'name': 'Michelle Hansen', 'stret': '6019 Cruz Landing', 'city': 'East Davidtown', 'zip': '58962'}}, {'_index': 'users', '_id': 'IYGiFYEBtgHTAbM7FIfg', '_score': 1.0, '_source': {'name': 'Megan Patrick', 'stret': '765 Stephen Parkway', 'city': 'North Mary', 'zip': '21175'}}, {'_index': 'users', '_id': 'IoGiFYEBtgHTAbM7FIfg', '_score': 1.0, '_source': {'name': 'Shawn Mendoza', 'stret': '58540 James Parkway', 'city': 'Smithborough', 'zip': '95257'}}, {'_index': 'users', '_id': 'I4GiFYEBtgHTAbM7FIfg', '_score': 1.0, '_source': {'name': 'Jacob Jones', 'stret': '982 Brewer Lock Apt. 359', 'city': 'North Matthewberg', 'zip': '39027'}}, {'_index': 'users', '_id': 'JIGiFYEBtgHTAbM7FIfg', '_score': 1.0, '_source': {'name': 'Mary Rodriguez', 'stret': '9021 Cooper Motorway', 'city': 'Rachelside', 'zip': '50772'}}, {'_index': 'users', '_id': 'JYGiFYEBtgHTAbM7FIfg', '_score': 1.0, '_source': {'name': 'Melissa Jones', 'stret': '16663 Bishop Landing Apt. 624', 'city': 'Graceborough', 'zip': '78060'}}]}}\n"
     ]
    }
   ],
   "source": [
    "print(res)"
   ]
  },
  {
   "cell_type": "code",
   "execution_count": 26,
   "id": "ec0cadc8",
   "metadata": {},
   "outputs": [
    {
     "name": "stdout",
     "output_type": "stream",
     "text": [
      "[{'_index': 'users', '_id': 'HIGhFYEBtgHTAbM7xYfG', '_score': 1.0, '_source': {'name': 'Jennifer Miller', 'street': '58481 Bennett Points Apt. 751', 'city': 'Port Anthonyland', 'zip': '17782'}}, {'_index': 'users', '_id': 'HYGhFYEBtgHTAbM7-IfY', '_score': 1.0, '_source': {'name': 'Nicole Ho', 'street': '594 Henry Crossroad Suite 789', 'city': 'Michaelborough', 'zip': '71037'}}, {'_index': 'users', '_id': 'HoGiFYEBtgHTAbM7FIfg', '_score': 1.0, '_source': {'name': 'Emily Drake', 'stret': '2027 Kathryn Village', 'city': 'Ericland', 'zip': '04162'}}, {'_index': 'users', '_id': 'H4GiFYEBtgHTAbM7FIfg', '_score': 1.0, '_source': {'name': 'Ashley Collier', 'stret': '300 Guzman Summit Apt. 337', 'city': 'West Jessica', 'zip': '43306'}}, {'_index': 'users', '_id': 'IIGiFYEBtgHTAbM7FIfg', '_score': 1.0, '_source': {'name': 'Michelle Hansen', 'stret': '6019 Cruz Landing', 'city': 'East Davidtown', 'zip': '58962'}}, {'_index': 'users', '_id': 'IYGiFYEBtgHTAbM7FIfg', '_score': 1.0, '_source': {'name': 'Megan Patrick', 'stret': '765 Stephen Parkway', 'city': 'North Mary', 'zip': '21175'}}, {'_index': 'users', '_id': 'IoGiFYEBtgHTAbM7FIfg', '_score': 1.0, '_source': {'name': 'Shawn Mendoza', 'stret': '58540 James Parkway', 'city': 'Smithborough', 'zip': '95257'}}, {'_index': 'users', '_id': 'I4GiFYEBtgHTAbM7FIfg', '_score': 1.0, '_source': {'name': 'Jacob Jones', 'stret': '982 Brewer Lock Apt. 359', 'city': 'North Matthewberg', 'zip': '39027'}}, {'_index': 'users', '_id': 'JIGiFYEBtgHTAbM7FIfg', '_score': 1.0, '_source': {'name': 'Mary Rodriguez', 'stret': '9021 Cooper Motorway', 'city': 'Rachelside', 'zip': '50772'}}, {'_index': 'users', '_id': 'JYGiFYEBtgHTAbM7FIfg', '_score': 1.0, '_source': {'name': 'Melissa Jones', 'stret': '16663 Bishop Landing Apt. 624', 'city': 'Graceborough', 'zip': '78060'}}]\n"
     ]
    }
   ],
   "source": [
    "print(res['hits']['hits'])"
   ]
  },
  {
   "cell_type": "code",
   "execution_count": 28,
   "id": "a63cadfb",
   "metadata": {},
   "outputs": [
    {
     "name": "stdout",
     "output_type": "stream",
     "text": [
      "{'name': 'Jennifer Miller', 'street': '58481 Bennett Points Apt. 751', 'city': 'Port Anthonyland', 'zip': '17782'}\n",
      "{'name': 'Nicole Ho', 'street': '594 Henry Crossroad Suite 789', 'city': 'Michaelborough', 'zip': '71037'}\n",
      "{'name': 'Emily Drake', 'stret': '2027 Kathryn Village', 'city': 'Ericland', 'zip': '04162'}\n",
      "{'name': 'Ashley Collier', 'stret': '300 Guzman Summit Apt. 337', 'city': 'West Jessica', 'zip': '43306'}\n",
      "{'name': 'Michelle Hansen', 'stret': '6019 Cruz Landing', 'city': 'East Davidtown', 'zip': '58962'}\n",
      "{'name': 'Megan Patrick', 'stret': '765 Stephen Parkway', 'city': 'North Mary', 'zip': '21175'}\n",
      "{'name': 'Shawn Mendoza', 'stret': '58540 James Parkway', 'city': 'Smithborough', 'zip': '95257'}\n",
      "{'name': 'Jacob Jones', 'stret': '982 Brewer Lock Apt. 359', 'city': 'North Matthewberg', 'zip': '39027'}\n",
      "{'name': 'Mary Rodriguez', 'stret': '9021 Cooper Motorway', 'city': 'Rachelside', 'zip': '50772'}\n",
      "{'name': 'Melissa Jones', 'stret': '16663 Bishop Landing Apt. 624', 'city': 'Graceborough', 'zip': '78060'}\n"
     ]
    }
   ],
   "source": [
    "for doc in res['hits']['hits']:\n",
    "    print(doc['_source'])"
   ]
  },
  {
   "cell_type": "code",
   "execution_count": 33,
   "id": "6aaac0e5",
   "metadata": {},
   "outputs": [],
   "source": [
    "from pandas import json_normalize as pj\n"
   ]
  },
  {
   "cell_type": "code",
   "execution_count": 34,
   "id": "91512017",
   "metadata": {},
   "outputs": [],
   "source": [
    "df = pj(res['hits']['hits'])  #load json into a pandas dataframe"
   ]
  },
  {
   "cell_type": "code",
   "execution_count": 35,
   "id": "a3e3ec6c",
   "metadata": {},
   "outputs": [
    {
     "data": {
      "text/html": [
       "<div>\n",
       "<style scoped>\n",
       "    .dataframe tbody tr th:only-of-type {\n",
       "        vertical-align: middle;\n",
       "    }\n",
       "\n",
       "    .dataframe tbody tr th {\n",
       "        vertical-align: top;\n",
       "    }\n",
       "\n",
       "    .dataframe thead th {\n",
       "        text-align: right;\n",
       "    }\n",
       "</style>\n",
       "<table border=\"1\" class=\"dataframe\">\n",
       "  <thead>\n",
       "    <tr style=\"text-align: right;\">\n",
       "      <th></th>\n",
       "      <th>_index</th>\n",
       "      <th>_id</th>\n",
       "      <th>_score</th>\n",
       "      <th>_source.name</th>\n",
       "      <th>_source.street</th>\n",
       "      <th>_source.city</th>\n",
       "      <th>_source.zip</th>\n",
       "      <th>_source.stret</th>\n",
       "    </tr>\n",
       "  </thead>\n",
       "  <tbody>\n",
       "    <tr>\n",
       "      <th>0</th>\n",
       "      <td>users</td>\n",
       "      <td>HIGhFYEBtgHTAbM7xYfG</td>\n",
       "      <td>1.0</td>\n",
       "      <td>Jennifer Miller</td>\n",
       "      <td>58481 Bennett Points Apt. 751</td>\n",
       "      <td>Port Anthonyland</td>\n",
       "      <td>17782</td>\n",
       "      <td>NaN</td>\n",
       "    </tr>\n",
       "    <tr>\n",
       "      <th>1</th>\n",
       "      <td>users</td>\n",
       "      <td>HYGhFYEBtgHTAbM7-IfY</td>\n",
       "      <td>1.0</td>\n",
       "      <td>Nicole Ho</td>\n",
       "      <td>594 Henry Crossroad Suite 789</td>\n",
       "      <td>Michaelborough</td>\n",
       "      <td>71037</td>\n",
       "      <td>NaN</td>\n",
       "    </tr>\n",
       "    <tr>\n",
       "      <th>2</th>\n",
       "      <td>users</td>\n",
       "      <td>HoGiFYEBtgHTAbM7FIfg</td>\n",
       "      <td>1.0</td>\n",
       "      <td>Emily Drake</td>\n",
       "      <td>NaN</td>\n",
       "      <td>Ericland</td>\n",
       "      <td>04162</td>\n",
       "      <td>2027 Kathryn Village</td>\n",
       "    </tr>\n",
       "    <tr>\n",
       "      <th>3</th>\n",
       "      <td>users</td>\n",
       "      <td>H4GiFYEBtgHTAbM7FIfg</td>\n",
       "      <td>1.0</td>\n",
       "      <td>Ashley Collier</td>\n",
       "      <td>NaN</td>\n",
       "      <td>West Jessica</td>\n",
       "      <td>43306</td>\n",
       "      <td>300 Guzman Summit Apt. 337</td>\n",
       "    </tr>\n",
       "    <tr>\n",
       "      <th>4</th>\n",
       "      <td>users</td>\n",
       "      <td>IIGiFYEBtgHTAbM7FIfg</td>\n",
       "      <td>1.0</td>\n",
       "      <td>Michelle Hansen</td>\n",
       "      <td>NaN</td>\n",
       "      <td>East Davidtown</td>\n",
       "      <td>58962</td>\n",
       "      <td>6019 Cruz Landing</td>\n",
       "    </tr>\n",
       "  </tbody>\n",
       "</table>\n",
       "</div>"
      ],
      "text/plain": [
       "  _index                   _id  _score     _source.name  \\\n",
       "0  users  HIGhFYEBtgHTAbM7xYfG     1.0  Jennifer Miller   \n",
       "1  users  HYGhFYEBtgHTAbM7-IfY     1.0        Nicole Ho   \n",
       "2  users  HoGiFYEBtgHTAbM7FIfg     1.0      Emily Drake   \n",
       "3  users  H4GiFYEBtgHTAbM7FIfg     1.0   Ashley Collier   \n",
       "4  users  IIGiFYEBtgHTAbM7FIfg     1.0  Michelle Hansen   \n",
       "\n",
       "                  _source.street      _source.city _source.zip  \\\n",
       "0  58481 Bennett Points Apt. 751  Port Anthonyland       17782   \n",
       "1  594 Henry Crossroad Suite 789    Michaelborough       71037   \n",
       "2                            NaN          Ericland       04162   \n",
       "3                            NaN      West Jessica       43306   \n",
       "4                            NaN    East Davidtown       58962   \n",
       "\n",
       "                _source.stret  \n",
       "0                         NaN  \n",
       "1                         NaN  \n",
       "2        2027 Kathryn Village  \n",
       "3  300 Guzman Summit Apt. 337  \n",
       "4           6019 Cruz Landing  "
      ]
     },
     "execution_count": 35,
     "metadata": {},
     "output_type": "execute_result"
    }
   ],
   "source": [
    "df.head()"
   ]
  },
  {
   "cell_type": "code",
   "execution_count": 40,
   "id": "252e6ec2",
   "metadata": {},
   "outputs": [
    {
     "name": "stderr",
     "output_type": "stream",
     "text": [
      "/home/adduser/.local/lib/python3.6/site-packages/ipykernel_launcher.py:2: DeprecationWarning: The 'body' parameter is deprecated and will be removed in a future version. Instead use individual parameters.\n",
      "  \n"
     ]
    }
   ],
   "source": [
    "doc={\"query\":{\"match\":{\"name\":\"Ronald Goodman\"}}}\n",
    "res=client.search(index=\"users\",body=doc,size=10)\n"
   ]
  },
  {
   "cell_type": "code",
   "execution_count": 41,
   "id": "6d3d161a",
   "metadata": {},
   "outputs": [
    {
     "name": "stdout",
     "output_type": "stream",
     "text": [
      "{'name': 'Jack Goodman', 'stret': '464 Love Mission Apt. 227', 'city': 'North Tamara', 'zip': '72728'}\n"
     ]
    }
   ],
   "source": [
    "print(res['hits']['hits'][0]['_source'])"
   ]
  },
  {
   "cell_type": "code",
   "execution_count": 43,
   "id": "5bdfcc9a",
   "metadata": {},
   "outputs": [],
   "source": [
    "res=client.search(index=\"users\",q=\"name:Ronald Goodman\",size=10) #the q is known as using the Lucene syntax where you specify the field:value\n"
   ]
  },
  {
   "cell_type": "code",
   "execution_count": 44,
   "id": "dc961ef1",
   "metadata": {},
   "outputs": [
    {
     "name": "stdout",
     "output_type": "stream",
     "text": [
      "{'name': 'Jack Goodman', 'stret': '464 Love Mission Apt. 227', 'city': 'North Tamara', 'zip': '72728'}\n"
     ]
    }
   ],
   "source": [
    "print(res['hits']['hits'][0]['_source'])"
   ]
  },
  {
   "cell_type": "code",
   "execution_count": 46,
   "id": "8d55559a",
   "metadata": {},
   "outputs": [
    {
     "name": "stderr",
     "output_type": "stream",
     "text": [
      "/home/adduser/.local/lib/python3.6/site-packages/ipykernel_launcher.py:2: DeprecationWarning: The 'body' parameter is deprecated and will be removed in a future version. Instead use individual parameters.\n",
      "  \n"
     ]
    }
   ],
   "source": [
    "# Get City Jamesberg - Returns Jamesberg and Lake Jamesberg, but this dataset is not having two jamesberg\n",
    "doc={\"query\":{\"match\":{\"city\":\"Jamesberg\"}}}\n",
    "res=client.search(index=\"users\",body=doc,size=10)\n"
   ]
  },
  {
   "cell_type": "code",
   "execution_count": 47,
   "id": "417337dd",
   "metadata": {},
   "outputs": [
    {
     "name": "stdout",
     "output_type": "stream",
     "text": [
      "[{'_index': 'users', '_id': 'eoGiFYEBtgHTAbM7I4r1', '_score': 6.3677483, '_source': {'name': 'Joanna Hunt', 'stret': '07093 Darin Road', 'city': 'Port Jamesberg', 'zip': '27320'}}]\n"
     ]
    }
   ],
   "source": [
    "print(res['hits']['hits'])"
   ]
  },
  {
   "cell_type": "code",
   "execution_count": 51,
   "id": "e3a7ecf1",
   "metadata": {},
   "outputs": [
    {
     "name": "stderr",
     "output_type": "stream",
     "text": [
      "/home/adduser/.local/lib/python3.6/site-packages/ipykernel_launcher.py:4: DeprecationWarning: The 'body' parameter is deprecated and will be removed in a future version. Instead use individual parameters.\n",
      "  after removing the cwd from sys.path.\n"
     ]
    }
   ],
   "source": [
    "# Get Jamesberg and filter on zip so Lake Jamesberg is removed\n",
    "doc={\"query\":{\"bool\":{\"must\":{\"match\":{\"city\":\"Jamesberg\"}},\n",
    "\"filter\":{\"term\":{\"zip\":\"63792\"}}}}}\n",
    "res=client.search(index=\"users\",body=doc,size=10)\n"
   ]
  },
  {
   "cell_type": "code",
   "execution_count": 52,
   "id": "2cebaf8e",
   "metadata": {},
   "outputs": [
    {
     "name": "stdout",
     "output_type": "stream",
     "text": [
      "[]\n"
     ]
    }
   ],
   "source": [
    "print(res['hits']['hits'])"
   ]
  },
  {
   "cell_type": "markdown",
   "id": "3fa6a957",
   "metadata": {},
   "source": [
    "#### Comments comes after code execution. Take Note"
   ]
  },
  {
   "cell_type": "code",
   "execution_count": 58,
   "id": "612507a4",
   "metadata": {},
   "outputs": [
    {
     "name": "stderr",
     "output_type": "stream",
     "text": [
      "/home/adduser/.local/lib/python3.6/site-packages/ipykernel_launcher.py:6: DeprecationWarning: The 'body' parameter is deprecated and will be removed in a future version. Instead use individual parameters.\n",
      "  \n"
     ]
    }
   ],
   "source": [
    "res = client.search(\n",
    "index = 'users',\n",
    "# doc_type = 'doc',\n",
    "scroll = '20m',\n",
    "size = 500,\n",
    "body = {\"query\":{\"match_all\":{}}}\n",
    ")  #using scroll to access more than 10,000 records. though we dont have up to 10,000 records. for teaching purposes"
   ]
  },
  {
   "cell_type": "markdown",
   "id": "0c7ffc2a",
   "metadata": {},
   "source": [
    "#### Search your data. Since you do not have over 10,000 records, you will set the size to\n",
    "500. This means you will be missing 500 records from your initial search. You will\n",
    "pass a new parameter to the search method – scroll. This parameter specifies\n",
    "how long you want to make the results available for. I am using 20 milliseconds.\n",
    "Adjust this number to make sure you have enough time to get the data – it will\n",
    "depend on the document size and network speed:"
   ]
  },
  {
   "cell_type": "code",
   "execution_count": 59,
   "id": "f1f0e933",
   "metadata": {},
   "outputs": [],
   "source": [
    "sid = res['_scroll_id']\n",
    "size = res['hits']['total']['value']"
   ]
  },
  {
   "cell_type": "markdown",
   "id": "5b2a3b1e",
   "metadata": {},
   "source": [
    "#### \n",
    "The results will include _scroll_id, which you will need to pass to the scroll\n",
    "method later. Save the scroll ID and the size of the result set:"
   ]
  },
  {
   "cell_type": "code",
   "execution_count": 64,
   "id": "5c00e4c9",
   "metadata": {},
   "outputs": [
    {
     "ename": "KeyboardInterrupt",
     "evalue": "",
     "output_type": "error",
     "traceback": [
      "\u001b[0;31m---------------------------------------------------------------------------\u001b[0m",
      "\u001b[0;31mKeyboardInterrupt\u001b[0m                         Traceback (most recent call last)",
      "\u001b[0;32m<ipython-input-64-842669a23295>\u001b[0m in \u001b[0;36m<module>\u001b[0;34m\u001b[0m\n\u001b[1;32m      1\u001b[0m \u001b[0;32mwhile\u001b[0m \u001b[0;34m(\u001b[0m\u001b[0msize\u001b[0m \u001b[0;34m>\u001b[0m \u001b[0;36m0\u001b[0m\u001b[0;34m)\u001b[0m\u001b[0;34m:\u001b[0m\u001b[0;34m\u001b[0m\u001b[0;34m\u001b[0m\u001b[0m\n\u001b[0;32m----> 2\u001b[0;31m     \u001b[0mres\u001b[0m \u001b[0;34m=\u001b[0m \u001b[0mclient\u001b[0m\u001b[0;34m.\u001b[0m\u001b[0mscroll\u001b[0m\u001b[0;34m(\u001b[0m\u001b[0mscroll_id\u001b[0m \u001b[0;34m=\u001b[0m \u001b[0msid\u001b[0m\u001b[0;34m,\u001b[0m \u001b[0mscroll\u001b[0m \u001b[0;34m=\u001b[0m \u001b[0;34m'20m'\u001b[0m\u001b[0;34m)\u001b[0m\u001b[0;34m\u001b[0m\u001b[0;34m\u001b[0m\u001b[0m\n\u001b[0m",
      "\u001b[0;32m~/.local/lib/python3.6/site-packages/elasticsearch/_sync/client/utils.py\u001b[0m in \u001b[0;36mwrapped\u001b[0;34m(*args, **kwargs)\u001b[0m\n\u001b[1;32m    412\u001b[0m                         \u001b[0;32mpass\u001b[0m\u001b[0;34m\u001b[0m\u001b[0;34m\u001b[0m\u001b[0m\n\u001b[1;32m    413\u001b[0m \u001b[0;34m\u001b[0m\u001b[0m\n\u001b[0;32m--> 414\u001b[0;31m             \u001b[0;32mreturn\u001b[0m \u001b[0mapi\u001b[0m\u001b[0;34m(\u001b[0m\u001b[0;34m*\u001b[0m\u001b[0margs\u001b[0m\u001b[0;34m,\u001b[0m \u001b[0;34m**\u001b[0m\u001b[0mkwargs\u001b[0m\u001b[0;34m)\u001b[0m\u001b[0;34m\u001b[0m\u001b[0;34m\u001b[0m\u001b[0m\n\u001b[0m\u001b[1;32m    415\u001b[0m \u001b[0;34m\u001b[0m\u001b[0m\n\u001b[1;32m    416\u001b[0m         \u001b[0;32mreturn\u001b[0m \u001b[0mwrapped\u001b[0m  \u001b[0;31m# type: ignore[return-value]\u001b[0m\u001b[0;34m\u001b[0m\u001b[0;34m\u001b[0m\u001b[0m\n",
      "\u001b[0;32m~/.local/lib/python3.6/site-packages/elasticsearch/_sync/client/__init__.py\u001b[0m in \u001b[0;36mscroll\u001b[0;34m(self, scroll_id, error_trace, filter_path, human, pretty, rest_total_hits_as_int, scroll)\u001b[0m\n\u001b[1;32m   3321\u001b[0m             \u001b[0m__headers\u001b[0m\u001b[0;34m[\u001b[0m\u001b[0;34m\"content-type\"\u001b[0m\u001b[0;34m]\u001b[0m \u001b[0;34m=\u001b[0m \u001b[0;34m\"application/json\"\u001b[0m\u001b[0;34m\u001b[0m\u001b[0;34m\u001b[0m\u001b[0m\n\u001b[1;32m   3322\u001b[0m         return self.perform_request(  # type: ignore[return-value]\n\u001b[0;32m-> 3323\u001b[0;31m             \u001b[0;34m\"POST\"\u001b[0m\u001b[0;34m,\u001b[0m \u001b[0m__path\u001b[0m\u001b[0;34m,\u001b[0m \u001b[0mparams\u001b[0m\u001b[0;34m=\u001b[0m\u001b[0m__query\u001b[0m\u001b[0;34m,\u001b[0m \u001b[0mheaders\u001b[0m\u001b[0;34m=\u001b[0m\u001b[0m__headers\u001b[0m\u001b[0;34m,\u001b[0m \u001b[0mbody\u001b[0m\u001b[0;34m=\u001b[0m\u001b[0m__body\u001b[0m\u001b[0;34m\u001b[0m\u001b[0;34m\u001b[0m\u001b[0m\n\u001b[0m\u001b[1;32m   3324\u001b[0m         )\n\u001b[1;32m   3325\u001b[0m \u001b[0;34m\u001b[0m\u001b[0m\n",
      "\u001b[0;32m~/.local/lib/python3.6/site-packages/elasticsearch/_sync/client/_base.py\u001b[0m in \u001b[0;36mperform_request\u001b[0;34m(self, method, path, params, headers, body)\u001b[0m\n\u001b[1;32m    293\u001b[0m             \u001b[0mretry_on_status\u001b[0m\u001b[0;34m=\u001b[0m\u001b[0mself\u001b[0m\u001b[0;34m.\u001b[0m\u001b[0m_retry_on_status\u001b[0m\u001b[0;34m,\u001b[0m\u001b[0;34m\u001b[0m\u001b[0;34m\u001b[0m\u001b[0m\n\u001b[1;32m    294\u001b[0m             \u001b[0mretry_on_timeout\u001b[0m\u001b[0;34m=\u001b[0m\u001b[0mself\u001b[0m\u001b[0;34m.\u001b[0m\u001b[0m_retry_on_timeout\u001b[0m\u001b[0;34m,\u001b[0m\u001b[0;34m\u001b[0m\u001b[0;34m\u001b[0m\u001b[0m\n\u001b[0;32m--> 295\u001b[0;31m             \u001b[0mclient_meta\u001b[0m\u001b[0;34m=\u001b[0m\u001b[0mself\u001b[0m\u001b[0;34m.\u001b[0m\u001b[0m_client_meta\u001b[0m\u001b[0;34m,\u001b[0m\u001b[0;34m\u001b[0m\u001b[0;34m\u001b[0m\u001b[0m\n\u001b[0m\u001b[1;32m    296\u001b[0m         )\n\u001b[1;32m    297\u001b[0m \u001b[0;34m\u001b[0m\u001b[0m\n",
      "\u001b[0;32m~/.local/lib/python3.6/site-packages/elastic_transport/_transport.py\u001b[0m in \u001b[0;36mperform_request\u001b[0;34m(self, method, target, body, headers, max_retries, retry_on_status, retry_on_timeout, request_timeout, client_meta)\u001b[0m\n\u001b[1;32m    332\u001b[0m                     \u001b[0mbody\u001b[0m\u001b[0;34m=\u001b[0m\u001b[0mrequest_body\u001b[0m\u001b[0;34m,\u001b[0m\u001b[0;34m\u001b[0m\u001b[0;34m\u001b[0m\u001b[0m\n\u001b[1;32m    333\u001b[0m                     \u001b[0mheaders\u001b[0m\u001b[0;34m=\u001b[0m\u001b[0mrequest_headers\u001b[0m\u001b[0;34m,\u001b[0m\u001b[0;34m\u001b[0m\u001b[0;34m\u001b[0m\u001b[0m\n\u001b[0;32m--> 334\u001b[0;31m                     \u001b[0mrequest_timeout\u001b[0m\u001b[0;34m=\u001b[0m\u001b[0mrequest_timeout\u001b[0m\u001b[0;34m,\u001b[0m\u001b[0;34m\u001b[0m\u001b[0;34m\u001b[0m\u001b[0m\n\u001b[0m\u001b[1;32m    335\u001b[0m                 )\n\u001b[1;32m    336\u001b[0m                 _logger.info(\n",
      "\u001b[0;32m~/.local/lib/python3.6/site-packages/elastic_transport/_node/_http_urllib3.py\u001b[0m in \u001b[0;36mperform_request\u001b[0;34m(self, method, target, body, headers, request_timeout)\u001b[0m\n\u001b[1;32m    168\u001b[0m                 \u001b[0mretries\u001b[0m\u001b[0;34m=\u001b[0m\u001b[0mRetry\u001b[0m\u001b[0;34m(\u001b[0m\u001b[0;32mFalse\u001b[0m\u001b[0;34m)\u001b[0m\u001b[0;34m,\u001b[0m\u001b[0;34m\u001b[0m\u001b[0;34m\u001b[0m\u001b[0m\n\u001b[1;32m    169\u001b[0m                 \u001b[0mheaders\u001b[0m\u001b[0;34m=\u001b[0m\u001b[0mrequest_headers\u001b[0m\u001b[0;34m,\u001b[0m\u001b[0;34m\u001b[0m\u001b[0;34m\u001b[0m\u001b[0m\n\u001b[0;32m--> 170\u001b[0;31m                 \u001b[0;34m**\u001b[0m\u001b[0mkw\u001b[0m\u001b[0;34m,\u001b[0m\u001b[0;34m\u001b[0m\u001b[0;34m\u001b[0m\u001b[0m\n\u001b[0m\u001b[1;32m    171\u001b[0m             )\n\u001b[1;32m    172\u001b[0m             \u001b[0mresponse_headers\u001b[0m \u001b[0;34m=\u001b[0m \u001b[0mHttpHeaders\u001b[0m\u001b[0;34m(\u001b[0m\u001b[0mresponse\u001b[0m\u001b[0;34m.\u001b[0m\u001b[0mheaders\u001b[0m\u001b[0;34m)\u001b[0m\u001b[0;34m\u001b[0m\u001b[0;34m\u001b[0m\u001b[0m\n",
      "\u001b[0;32m~/.local/lib/python3.6/site-packages/urllib3/connectionpool.py\u001b[0m in \u001b[0;36murlopen\u001b[0;34m(self, method, url, body, headers, retries, redirect, assert_same_host, timeout, pool_timeout, release_conn, chunked, body_pos, **response_kw)\u001b[0m\n\u001b[1;32m    708\u001b[0m                 \u001b[0mbody\u001b[0m\u001b[0;34m=\u001b[0m\u001b[0mbody\u001b[0m\u001b[0;34m,\u001b[0m\u001b[0;34m\u001b[0m\u001b[0;34m\u001b[0m\u001b[0m\n\u001b[1;32m    709\u001b[0m                 \u001b[0mheaders\u001b[0m\u001b[0;34m=\u001b[0m\u001b[0mheaders\u001b[0m\u001b[0;34m,\u001b[0m\u001b[0;34m\u001b[0m\u001b[0;34m\u001b[0m\u001b[0m\n\u001b[0;32m--> 710\u001b[0;31m                 \u001b[0mchunked\u001b[0m\u001b[0;34m=\u001b[0m\u001b[0mchunked\u001b[0m\u001b[0;34m,\u001b[0m\u001b[0;34m\u001b[0m\u001b[0;34m\u001b[0m\u001b[0m\n\u001b[0m\u001b[1;32m    711\u001b[0m             )\n\u001b[1;32m    712\u001b[0m \u001b[0;34m\u001b[0m\u001b[0m\n",
      "\u001b[0;32m~/.local/lib/python3.6/site-packages/urllib3/connectionpool.py\u001b[0m in \u001b[0;36m_make_request\u001b[0;34m(self, conn, method, url, timeout, chunked, **httplib_request_kw)\u001b[0m\n\u001b[1;32m    447\u001b[0m                     \u001b[0;31m# Python 3 (including for exceptions like SystemExit).\u001b[0m\u001b[0;34m\u001b[0m\u001b[0;34m\u001b[0m\u001b[0;34m\u001b[0m\u001b[0m\n\u001b[1;32m    448\u001b[0m                     \u001b[0;31m# Otherwise it looks like a bug in the code.\u001b[0m\u001b[0;34m\u001b[0m\u001b[0;34m\u001b[0m\u001b[0;34m\u001b[0m\u001b[0m\n\u001b[0;32m--> 449\u001b[0;31m                     \u001b[0msix\u001b[0m\u001b[0;34m.\u001b[0m\u001b[0mraise_from\u001b[0m\u001b[0;34m(\u001b[0m\u001b[0me\u001b[0m\u001b[0;34m,\u001b[0m \u001b[0;32mNone\u001b[0m\u001b[0;34m)\u001b[0m\u001b[0;34m\u001b[0m\u001b[0;34m\u001b[0m\u001b[0m\n\u001b[0m\u001b[1;32m    450\u001b[0m         \u001b[0;32mexcept\u001b[0m \u001b[0;34m(\u001b[0m\u001b[0mSocketTimeout\u001b[0m\u001b[0;34m,\u001b[0m \u001b[0mBaseSSLError\u001b[0m\u001b[0;34m,\u001b[0m \u001b[0mSocketError\u001b[0m\u001b[0;34m)\u001b[0m \u001b[0;32mas\u001b[0m \u001b[0me\u001b[0m\u001b[0;34m:\u001b[0m\u001b[0;34m\u001b[0m\u001b[0;34m\u001b[0m\u001b[0m\n\u001b[1;32m    451\u001b[0m             \u001b[0mself\u001b[0m\u001b[0;34m.\u001b[0m\u001b[0m_raise_timeout\u001b[0m\u001b[0;34m(\u001b[0m\u001b[0merr\u001b[0m\u001b[0;34m=\u001b[0m\u001b[0me\u001b[0m\u001b[0;34m,\u001b[0m \u001b[0murl\u001b[0m\u001b[0;34m=\u001b[0m\u001b[0murl\u001b[0m\u001b[0;34m,\u001b[0m \u001b[0mtimeout_value\u001b[0m\u001b[0;34m=\u001b[0m\u001b[0mread_timeout\u001b[0m\u001b[0;34m)\u001b[0m\u001b[0;34m\u001b[0m\u001b[0;34m\u001b[0m\u001b[0m\n",
      "\u001b[0;32m~/.local/lib/python3.6/site-packages/urllib3/packages/six.py\u001b[0m in \u001b[0;36mraise_from\u001b[0;34m(value, from_value)\u001b[0m\n",
      "\u001b[0;32m~/.local/lib/python3.6/site-packages/urllib3/connectionpool.py\u001b[0m in \u001b[0;36m_make_request\u001b[0;34m(self, conn, method, url, timeout, chunked, **httplib_request_kw)\u001b[0m\n\u001b[1;32m    442\u001b[0m                 \u001b[0;31m# Python 3\u001b[0m\u001b[0;34m\u001b[0m\u001b[0;34m\u001b[0m\u001b[0;34m\u001b[0m\u001b[0m\n\u001b[1;32m    443\u001b[0m                 \u001b[0;32mtry\u001b[0m\u001b[0;34m:\u001b[0m\u001b[0;34m\u001b[0m\u001b[0;34m\u001b[0m\u001b[0m\n\u001b[0;32m--> 444\u001b[0;31m                     \u001b[0mhttplib_response\u001b[0m \u001b[0;34m=\u001b[0m \u001b[0mconn\u001b[0m\u001b[0;34m.\u001b[0m\u001b[0mgetresponse\u001b[0m\u001b[0;34m(\u001b[0m\u001b[0;34m)\u001b[0m\u001b[0;34m\u001b[0m\u001b[0;34m\u001b[0m\u001b[0m\n\u001b[0m\u001b[1;32m    445\u001b[0m                 \u001b[0;32mexcept\u001b[0m \u001b[0mBaseException\u001b[0m \u001b[0;32mas\u001b[0m \u001b[0me\u001b[0m\u001b[0;34m:\u001b[0m\u001b[0;34m\u001b[0m\u001b[0;34m\u001b[0m\u001b[0m\n\u001b[1;32m    446\u001b[0m                     \u001b[0;31m# Remove the TypeError from the exception chain in\u001b[0m\u001b[0;34m\u001b[0m\u001b[0;34m\u001b[0m\u001b[0;34m\u001b[0m\u001b[0m\n",
      "\u001b[0;32m/usr/lib/python3.6/http/client.py\u001b[0m in \u001b[0;36mgetresponse\u001b[0;34m(self)\u001b[0m\n\u001b[1;32m   1375\u001b[0m         \u001b[0;32mtry\u001b[0m\u001b[0;34m:\u001b[0m\u001b[0;34m\u001b[0m\u001b[0;34m\u001b[0m\u001b[0m\n\u001b[1;32m   1376\u001b[0m             \u001b[0;32mtry\u001b[0m\u001b[0;34m:\u001b[0m\u001b[0;34m\u001b[0m\u001b[0;34m\u001b[0m\u001b[0m\n\u001b[0;32m-> 1377\u001b[0;31m                 \u001b[0mresponse\u001b[0m\u001b[0;34m.\u001b[0m\u001b[0mbegin\u001b[0m\u001b[0;34m(\u001b[0m\u001b[0;34m)\u001b[0m\u001b[0;34m\u001b[0m\u001b[0;34m\u001b[0m\u001b[0m\n\u001b[0m\u001b[1;32m   1378\u001b[0m             \u001b[0;32mexcept\u001b[0m \u001b[0mConnectionError\u001b[0m\u001b[0;34m:\u001b[0m\u001b[0;34m\u001b[0m\u001b[0;34m\u001b[0m\u001b[0m\n\u001b[1;32m   1379\u001b[0m                 \u001b[0mself\u001b[0m\u001b[0;34m.\u001b[0m\u001b[0mclose\u001b[0m\u001b[0;34m(\u001b[0m\u001b[0;34m)\u001b[0m\u001b[0;34m\u001b[0m\u001b[0;34m\u001b[0m\u001b[0m\n",
      "\u001b[0;32m/usr/lib/python3.6/http/client.py\u001b[0m in \u001b[0;36mbegin\u001b[0;34m(self)\u001b[0m\n\u001b[1;32m    318\u001b[0m         \u001b[0;31m# read until we get a non-100 response\u001b[0m\u001b[0;34m\u001b[0m\u001b[0;34m\u001b[0m\u001b[0;34m\u001b[0m\u001b[0m\n\u001b[1;32m    319\u001b[0m         \u001b[0;32mwhile\u001b[0m \u001b[0;32mTrue\u001b[0m\u001b[0;34m:\u001b[0m\u001b[0;34m\u001b[0m\u001b[0;34m\u001b[0m\u001b[0m\n\u001b[0;32m--> 320\u001b[0;31m             \u001b[0mversion\u001b[0m\u001b[0;34m,\u001b[0m \u001b[0mstatus\u001b[0m\u001b[0;34m,\u001b[0m \u001b[0mreason\u001b[0m \u001b[0;34m=\u001b[0m \u001b[0mself\u001b[0m\u001b[0;34m.\u001b[0m\u001b[0m_read_status\u001b[0m\u001b[0;34m(\u001b[0m\u001b[0;34m)\u001b[0m\u001b[0;34m\u001b[0m\u001b[0;34m\u001b[0m\u001b[0m\n\u001b[0m\u001b[1;32m    321\u001b[0m             \u001b[0;32mif\u001b[0m \u001b[0mstatus\u001b[0m \u001b[0;34m!=\u001b[0m \u001b[0mCONTINUE\u001b[0m\u001b[0;34m:\u001b[0m\u001b[0;34m\u001b[0m\u001b[0;34m\u001b[0m\u001b[0m\n\u001b[1;32m    322\u001b[0m                 \u001b[0;32mbreak\u001b[0m\u001b[0;34m\u001b[0m\u001b[0;34m\u001b[0m\u001b[0m\n",
      "\u001b[0;32m/usr/lib/python3.6/http/client.py\u001b[0m in \u001b[0;36m_read_status\u001b[0;34m(self)\u001b[0m\n\u001b[1;32m    279\u001b[0m \u001b[0;34m\u001b[0m\u001b[0m\n\u001b[1;32m    280\u001b[0m     \u001b[0;32mdef\u001b[0m \u001b[0m_read_status\u001b[0m\u001b[0;34m(\u001b[0m\u001b[0mself\u001b[0m\u001b[0;34m)\u001b[0m\u001b[0;34m:\u001b[0m\u001b[0;34m\u001b[0m\u001b[0;34m\u001b[0m\u001b[0m\n\u001b[0;32m--> 281\u001b[0;31m         \u001b[0mline\u001b[0m \u001b[0;34m=\u001b[0m \u001b[0mstr\u001b[0m\u001b[0;34m(\u001b[0m\u001b[0mself\u001b[0m\u001b[0;34m.\u001b[0m\u001b[0mfp\u001b[0m\u001b[0;34m.\u001b[0m\u001b[0mreadline\u001b[0m\u001b[0;34m(\u001b[0m\u001b[0m_MAXLINE\u001b[0m \u001b[0;34m+\u001b[0m \u001b[0;36m1\u001b[0m\u001b[0;34m)\u001b[0m\u001b[0;34m,\u001b[0m \u001b[0;34m\"iso-8859-1\"\u001b[0m\u001b[0;34m)\u001b[0m\u001b[0;34m\u001b[0m\u001b[0;34m\u001b[0m\u001b[0m\n\u001b[0m\u001b[1;32m    282\u001b[0m         \u001b[0;32mif\u001b[0m \u001b[0mlen\u001b[0m\u001b[0;34m(\u001b[0m\u001b[0mline\u001b[0m\u001b[0;34m)\u001b[0m \u001b[0;34m>\u001b[0m \u001b[0m_MAXLINE\u001b[0m\u001b[0;34m:\u001b[0m\u001b[0;34m\u001b[0m\u001b[0;34m\u001b[0m\u001b[0m\n\u001b[1;32m    283\u001b[0m             \u001b[0;32mraise\u001b[0m \u001b[0mLineTooLong\u001b[0m\u001b[0;34m(\u001b[0m\u001b[0;34m\"status line\"\u001b[0m\u001b[0;34m)\u001b[0m\u001b[0;34m\u001b[0m\u001b[0;34m\u001b[0m\u001b[0m\n",
      "\u001b[0;32m/usr/lib/python3.6/socket.py\u001b[0m in \u001b[0;36mreadinto\u001b[0;34m(self, b)\u001b[0m\n\u001b[1;32m    584\u001b[0m         \u001b[0;32mwhile\u001b[0m \u001b[0;32mTrue\u001b[0m\u001b[0;34m:\u001b[0m\u001b[0;34m\u001b[0m\u001b[0;34m\u001b[0m\u001b[0m\n\u001b[1;32m    585\u001b[0m             \u001b[0;32mtry\u001b[0m\u001b[0;34m:\u001b[0m\u001b[0;34m\u001b[0m\u001b[0;34m\u001b[0m\u001b[0m\n\u001b[0;32m--> 586\u001b[0;31m                 \u001b[0;32mreturn\u001b[0m \u001b[0mself\u001b[0m\u001b[0;34m.\u001b[0m\u001b[0m_sock\u001b[0m\u001b[0;34m.\u001b[0m\u001b[0mrecv_into\u001b[0m\u001b[0;34m(\u001b[0m\u001b[0mb\u001b[0m\u001b[0;34m)\u001b[0m\u001b[0;34m\u001b[0m\u001b[0;34m\u001b[0m\u001b[0m\n\u001b[0m\u001b[1;32m    587\u001b[0m             \u001b[0;32mexcept\u001b[0m \u001b[0mtimeout\u001b[0m\u001b[0;34m:\u001b[0m\u001b[0;34m\u001b[0m\u001b[0;34m\u001b[0m\u001b[0m\n\u001b[1;32m    588\u001b[0m                 \u001b[0mself\u001b[0m\u001b[0;34m.\u001b[0m\u001b[0m_timeout_occurred\u001b[0m \u001b[0;34m=\u001b[0m \u001b[0;32mTrue\u001b[0m\u001b[0;34m\u001b[0m\u001b[0;34m\u001b[0m\u001b[0m\n",
      "\u001b[0;32m/usr/lib/python3.6/ssl.py\u001b[0m in \u001b[0;36mrecv_into\u001b[0;34m(self, buffer, nbytes, flags)\u001b[0m\n\u001b[1;32m   1010\u001b[0m                   \u001b[0;34m\"non-zero flags not allowed in calls to recv_into() on %s\"\u001b[0m \u001b[0;34m%\u001b[0m\u001b[0;34m\u001b[0m\u001b[0;34m\u001b[0m\u001b[0m\n\u001b[1;32m   1011\u001b[0m                   self.__class__)\n\u001b[0;32m-> 1012\u001b[0;31m             \u001b[0;32mreturn\u001b[0m \u001b[0mself\u001b[0m\u001b[0;34m.\u001b[0m\u001b[0mread\u001b[0m\u001b[0;34m(\u001b[0m\u001b[0mnbytes\u001b[0m\u001b[0;34m,\u001b[0m \u001b[0mbuffer\u001b[0m\u001b[0;34m)\u001b[0m\u001b[0;34m\u001b[0m\u001b[0;34m\u001b[0m\u001b[0m\n\u001b[0m\u001b[1;32m   1013\u001b[0m         \u001b[0;32melse\u001b[0m\u001b[0;34m:\u001b[0m\u001b[0;34m\u001b[0m\u001b[0;34m\u001b[0m\u001b[0m\n\u001b[1;32m   1014\u001b[0m             \u001b[0;32mreturn\u001b[0m \u001b[0msocket\u001b[0m\u001b[0;34m.\u001b[0m\u001b[0mrecv_into\u001b[0m\u001b[0;34m(\u001b[0m\u001b[0mself\u001b[0m\u001b[0;34m,\u001b[0m \u001b[0mbuffer\u001b[0m\u001b[0;34m,\u001b[0m \u001b[0mnbytes\u001b[0m\u001b[0;34m,\u001b[0m \u001b[0mflags\u001b[0m\u001b[0;34m)\u001b[0m\u001b[0;34m\u001b[0m\u001b[0;34m\u001b[0m\u001b[0m\n",
      "\u001b[0;32m/usr/lib/python3.6/ssl.py\u001b[0m in \u001b[0;36mread\u001b[0;34m(self, len, buffer)\u001b[0m\n\u001b[1;32m    872\u001b[0m             \u001b[0;32mraise\u001b[0m \u001b[0mValueError\u001b[0m\u001b[0;34m(\u001b[0m\u001b[0;34m\"Read on closed or unwrapped SSL socket.\"\u001b[0m\u001b[0;34m)\u001b[0m\u001b[0;34m\u001b[0m\u001b[0;34m\u001b[0m\u001b[0m\n\u001b[1;32m    873\u001b[0m         \u001b[0;32mtry\u001b[0m\u001b[0;34m:\u001b[0m\u001b[0;34m\u001b[0m\u001b[0;34m\u001b[0m\u001b[0m\n\u001b[0;32m--> 874\u001b[0;31m             \u001b[0;32mreturn\u001b[0m \u001b[0mself\u001b[0m\u001b[0;34m.\u001b[0m\u001b[0m_sslobj\u001b[0m\u001b[0;34m.\u001b[0m\u001b[0mread\u001b[0m\u001b[0;34m(\u001b[0m\u001b[0mlen\u001b[0m\u001b[0;34m,\u001b[0m \u001b[0mbuffer\u001b[0m\u001b[0;34m)\u001b[0m\u001b[0;34m\u001b[0m\u001b[0;34m\u001b[0m\u001b[0m\n\u001b[0m\u001b[1;32m    875\u001b[0m         \u001b[0;32mexcept\u001b[0m \u001b[0mSSLError\u001b[0m \u001b[0;32mas\u001b[0m \u001b[0mx\u001b[0m\u001b[0;34m:\u001b[0m\u001b[0;34m\u001b[0m\u001b[0;34m\u001b[0m\u001b[0m\n\u001b[1;32m    876\u001b[0m             \u001b[0;32mif\u001b[0m \u001b[0mx\u001b[0m\u001b[0;34m.\u001b[0m\u001b[0margs\u001b[0m\u001b[0;34m[\u001b[0m\u001b[0;36m0\u001b[0m\u001b[0;34m]\u001b[0m \u001b[0;34m==\u001b[0m \u001b[0mSSL_ERROR_EOF\u001b[0m \u001b[0;32mand\u001b[0m \u001b[0mself\u001b[0m\u001b[0;34m.\u001b[0m\u001b[0msuppress_ragged_eofs\u001b[0m\u001b[0;34m:\u001b[0m\u001b[0;34m\u001b[0m\u001b[0;34m\u001b[0m\u001b[0m\n",
      "\u001b[0;32m/usr/lib/python3.6/ssl.py\u001b[0m in \u001b[0;36mread\u001b[0;34m(self, len, buffer)\u001b[0m\n\u001b[1;32m    629\u001b[0m         \"\"\"\n\u001b[1;32m    630\u001b[0m         \u001b[0;32mif\u001b[0m \u001b[0mbuffer\u001b[0m \u001b[0;32mis\u001b[0m \u001b[0;32mnot\u001b[0m \u001b[0;32mNone\u001b[0m\u001b[0;34m:\u001b[0m\u001b[0;34m\u001b[0m\u001b[0;34m\u001b[0m\u001b[0m\n\u001b[0;32m--> 631\u001b[0;31m             \u001b[0mv\u001b[0m \u001b[0;34m=\u001b[0m \u001b[0mself\u001b[0m\u001b[0;34m.\u001b[0m\u001b[0m_sslobj\u001b[0m\u001b[0;34m.\u001b[0m\u001b[0mread\u001b[0m\u001b[0;34m(\u001b[0m\u001b[0mlen\u001b[0m\u001b[0;34m,\u001b[0m \u001b[0mbuffer\u001b[0m\u001b[0;34m)\u001b[0m\u001b[0;34m\u001b[0m\u001b[0;34m\u001b[0m\u001b[0m\n\u001b[0m\u001b[1;32m    632\u001b[0m         \u001b[0;32melse\u001b[0m\u001b[0;34m:\u001b[0m\u001b[0;34m\u001b[0m\u001b[0;34m\u001b[0m\u001b[0m\n\u001b[1;32m    633\u001b[0m             \u001b[0mv\u001b[0m \u001b[0;34m=\u001b[0m \u001b[0mself\u001b[0m\u001b[0;34m.\u001b[0m\u001b[0m_sslobj\u001b[0m\u001b[0;34m.\u001b[0m\u001b[0mread\u001b[0m\u001b[0;34m(\u001b[0m\u001b[0mlen\u001b[0m\u001b[0;34m)\u001b[0m\u001b[0;34m\u001b[0m\u001b[0;34m\u001b[0m\u001b[0m\n",
      "\u001b[0;31mKeyboardInterrupt\u001b[0m: "
     ]
    }
   ],
   "source": [
    "while (size > 0):\n",
    "    res = client.scroll(scroll_id = sid, scroll = '20m')"
   ]
  },
  {
   "cell_type": "markdown",
   "id": "ef0d4294",
   "metadata": {},
   "source": [
    "#### To start scrolling, use a while loop to get records until the size is 0, meaning\n",
    "#### there is no more data. Inside the loop, you will call the scroll method and pass\n",
    "#### _scroll_id and how long to scroll. This will grab more of the results from the\n",
    "#### original query:"
   ]
  },
  {
   "cell_type": "code",
   "execution_count": null,
   "id": "a96193c2",
   "metadata": {},
   "outputs": [],
   "source": [
    "sid = res['_scroll_id']\n",
    "size = len(res['hits']['hits'])"
   ]
  },
  {
   "cell_type": "markdown",
   "id": "e02edb24",
   "metadata": {},
   "source": [
    "##### Next, get the new scroll ID and the size so that you can loop through again if the data still exists:"
   ]
  },
  {
   "cell_type": "code",
   "execution_count": null,
   "id": "f9c151b6",
   "metadata": {},
   "outputs": [],
   "source": [
    "for doc in res['hits']['hits']:\n",
    "print(doc['_source'])"
   ]
  },
  {
   "cell_type": "markdown",
   "id": "f8669de1",
   "metadata": {},
   "source": [
    "##### Lastly, you can do something with the results of the scrolls. In the following code, you will print the source for every record:"
   ]
  },
  {
   "cell_type": "code",
   "execution_count": null,
   "id": "59a81adb",
   "metadata": {},
   "outputs": [],
   "source": []
  }
 ],
 "metadata": {
  "kernelspec": {
   "display_name": "Python 3",
   "language": "python",
   "name": "python3"
  },
  "language_info": {
   "codemirror_mode": {
    "name": "ipython",
    "version": 3
   },
   "file_extension": ".py",
   "mimetype": "text/x-python",
   "name": "python",
   "nbconvert_exporter": "python",
   "pygments_lexer": "ipython3",
   "version": "3.6.9"
  }
 },
 "nbformat": 4,
 "nbformat_minor": 5
}
