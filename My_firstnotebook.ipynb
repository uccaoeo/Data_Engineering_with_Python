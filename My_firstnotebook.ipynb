{
 "cells": [
  {
   "cell_type": "code",
   "execution_count": 1,
   "id": "f320c597",
   "metadata": {},
   "outputs": [],
   "source": [
    "import pandas as pd\n",
    "import random"
   ]
  },
  {
   "cell_type": "code",
   "execution_count": 2,
   "id": "208d964c",
   "metadata": {},
   "outputs": [],
   "source": [
    "from faker import Faker\n",
    "import csv\n",
    "import json"
   ]
  },
  {
   "cell_type": "code",
   "execution_count": null,
   "id": "80885efe",
   "metadata": {},
   "outputs": [],
   "source": [
    "output = open('mycsv.csv', mode='w')"
   ]
  },
  {
   "cell_type": "code",
   "execution_count": null,
   "id": "9a001b25",
   "metadata": {},
   "outputs": [],
   "source": [
    "mywriter = csv.writer(output)"
   ]
  },
  {
   "cell_type": "code",
   "execution_count": null,
   "id": "332aee33",
   "metadata": {},
   "outputs": [],
   "source": [
    "header = ['name', 'age']\n",
    "mywriter.writerow(header)"
   ]
  },
  {
   "cell_type": "code",
   "execution_count": null,
   "id": "65dd13e7",
   "metadata": {},
   "outputs": [],
   "source": [
    "data = ['bob smith', 40]\n",
    "mywriter.writerow(data)\n",
    "output.close()"
   ]
  },
  {
   "cell_type": "code",
   "execution_count": null,
   "id": "a7a217ec",
   "metadata": {},
   "outputs": [],
   "source": [
    "df = pd.read_csv('mycsv.csv')"
   ]
  },
  {
   "cell_type": "code",
   "execution_count": null,
   "id": "289ccbcc",
   "metadata": {},
   "outputs": [],
   "source": [
    "df.head()"
   ]
  },
  {
   "cell_type": "code",
   "execution_count": null,
   "id": "25f8d57d",
   "metadata": {},
   "outputs": [],
   "source": [
    "from faker import Faker"
   ]
  },
  {
   "cell_type": "code",
   "execution_count": null,
   "id": "5f818477",
   "metadata": {},
   "outputs": [],
   "source": [
    "data2 = open('mydata.csv', mode='w')"
   ]
  },
  {
   "cell_type": "code",
   "execution_count": null,
   "id": "3968a61f",
   "metadata": {},
   "outputs": [],
   "source": [
    "mywriter = csv.writer(data2)"
   ]
  },
  {
   "cell_type": "code",
   "execution_count": null,
   "id": "9e083208",
   "metadata": {},
   "outputs": [],
   "source": [
    "header = ['name', 'age', 'street','city', 'state', 'zip', \n",
    "         'lng', 'lat']"
   ]
  },
  {
   "cell_type": "code",
   "execution_count": null,
   "id": "2b362063",
   "metadata": {},
   "outputs": [],
   "source": [
    "fake = Faker()"
   ]
  },
  {
   "cell_type": "code",
   "execution_count": null,
   "id": "a9f88b8b",
   "metadata": {},
   "outputs": [],
   "source": [
    "mywriter.writerow(header)"
   ]
  },
  {
   "cell_type": "code",
   "execution_count": null,
   "id": "40af2531",
   "metadata": {},
   "outputs": [],
   "source": [
    "for r in range(10000):\n",
    "    mywriter.writerow([fake.name(),fake.random_int(max=100,min=18, step=1), fake.street_address(),fake.city(), fake.state(),fake.zipcode(),\n",
    "                      fake.longitude(), fake.latitude()])\n",
    "    output.close()"
   ]
  },
  {
   "cell_type": "code",
   "execution_count": null,
   "id": "95fca626",
   "metadata": {},
   "outputs": [],
   "source": [
    "df2 = pd.read_csv('mydata.csv')\n",
    "df2.head(10)"
   ]
  },
  {
   "cell_type": "code",
   "execution_count": null,
   "id": "e6ffa324",
   "metadata": {},
   "outputs": [],
   "source": [
    "df2.shape"
   ]
  },
  {
   "cell_type": "code",
   "execution_count": null,
   "id": "0743492d",
   "metadata": {},
   "outputs": [],
   "source": [
    "df2.info()"
   ]
  },
  {
   "cell_type": "code",
   "execution_count": null,
   "id": "9824cae8",
   "metadata": {},
   "outputs": [],
   "source": [
    "df2.describe()"
   ]
  },
  {
   "cell_type": "code",
   "execution_count": null,
   "id": "d65b91b3",
   "metadata": {},
   "outputs": [],
   "source": [
    "df2['zip'] = df2['zip'].values.astype(str)"
   ]
  },
  {
   "cell_type": "code",
   "execution_count": null,
   "id": "cf58bc94",
   "metadata": {},
   "outputs": [],
   "source": [
    "df2.info()"
   ]
  },
  {
   "cell_type": "code",
   "execution_count": null,
   "id": "7e061eba",
   "metadata": {},
   "outputs": [],
   "source": [
    "with open('mydata.csv') as f:\n",
    "    mireader = csv.DictReader(f)\n",
    "    header = next(mireader)\n",
    "    for row in mireader:\n",
    "        print(row['name'])\n",
    "    "
   ]
  },
  {
   "cell_type": "code",
   "execution_count": null,
   "id": "45d0191a",
   "metadata": {},
   "outputs": [],
   "source": [
    "print(header)"
   ]
  },
  {
   "cell_type": "code",
   "execution_count": null,
   "id": "1a48f872",
   "metadata": {},
   "outputs": [],
   "source": [
    "data = {'name': ['BOb', 'Mark', 'John'], 'Age': [12,24,48]}"
   ]
  },
  {
   "cell_type": "code",
   "execution_count": null,
   "id": "0340882e",
   "metadata": {},
   "outputs": [],
   "source": [
    "df3 = pd.DataFrame(data)"
   ]
  },
  {
   "cell_type": "code",
   "execution_count": null,
   "id": "14821e9a",
   "metadata": {},
   "outputs": [],
   "source": [
    "df3.head()"
   ]
  },
  {
   "cell_type": "code",
   "execution_count": null,
   "id": "fe45cd33",
   "metadata": {},
   "outputs": [],
   "source": [
    "df3.to_csv('mydataframe.csv', index=False)"
   ]
  },
  {
   "cell_type": "code",
   "execution_count": null,
   "id": "094076f6",
   "metadata": {},
   "outputs": [],
   "source": [
    "import json"
   ]
  },
  {
   "cell_type": "code",
   "execution_count": 3,
   "id": "fd68f1ef",
   "metadata": {},
   "outputs": [],
   "source": [
    "output = open('newjson.json', mode='w')\n",
    "fake = Faker()"
   ]
  },
  {
   "cell_type": "code",
   "execution_count": 9,
   "id": "d78f5b1f",
   "metadata": {},
   "outputs": [],
   "source": [
    "# def generate_data(n=100):\n",
    "#     customer = {}\n",
    "#     for n in range(0, 100):\n",
    "#         customer[n] = {}\n",
    "#         customer[n]['id'] = fake.random_int(max=100, min=1, step=1)\n",
    "#         customer[n]['city'] = fake.city()\n",
    "#         with open('newjson.json', 'w') as fp:\n",
    "#             json.dump(customer, fp)\n",
    "#             print('file has been created')\n",
    "        \n",
    "        \n",
    "        "
   ]
  },
  {
   "cell_type": "code",
   "execution_count": 11,
   "id": "954b4d24",
   "metadata": {},
   "outputs": [],
   "source": [
    "# This correctly generates our json file/\n",
    "customer = {}\n",
    "for n in range(0, 100):\n",
    "    customer[n] = {}\n",
    "    customer[n]['id'] = fake.random_int(max=100, min=1, step=1)\n",
    "    customer[n]['city'] = fake.city()\n",
    "    with open('newjson.json', 'w') as fp:\n",
    "         json.dump(customer, fp)\n",
    "    "
   ]
  },
  {
   "cell_type": "code",
   "execution_count": 17,
   "id": "329cc400",
   "metadata": {},
   "outputs": [
    {
     "name": "stdout",
     "output_type": "stream",
     "text": [
      "file has been created\n",
      "file has been created\n",
      "file has been created\n",
      "file has been created\n",
      "file has been created\n"
     ]
    }
   ],
   "source": [
    "# generate_data(5)"
   ]
  },
  {
   "cell_type": "code",
   "execution_count": null,
   "id": "2b9bbb2e",
   "metadata": {},
   "outputs": [],
   "source": [
    "df3 = pd.read_json('oldjson.json')"
   ]
  },
  {
   "cell_type": "code",
   "execution_count": 12,
   "id": "51c84df2",
   "metadata": {},
   "outputs": [
    {
     "name": "stdout",
     "output_type": "stream",
     "text": [
      "{'0': {'id': 73, 'city': 'West Patrick'}, '1': {'id': 40, 'city': 'Monicachester'}, '2': {'id': 3, 'city': 'Loritown'}, '3': {'id': 84, 'city': 'South Wayne'}, '4': {'id': 20, 'city': 'Silvaton'}, '5': {'id': 45, 'city': 'Stoneborough'}, '6': {'id': 62, 'city': 'Port Annette'}, '7': {'id': 32, 'city': 'Crystalfort'}, '8': {'id': 9, 'city': 'Michaelchester'}, '9': {'id': 38, 'city': 'East Angelatown'}, '10': {'id': 4, 'city': 'South Christopher'}, '11': {'id': 43, 'city': 'Noahshire'}, '12': {'id': 9, 'city': 'Porterview'}, '13': {'id': 51, 'city': 'Lake Lydia'}, '14': {'id': 34, 'city': 'Lake Joshua'}, '15': {'id': 73, 'city': 'North Julie'}, '16': {'id': 3, 'city': 'North Barbarahaven'}, '17': {'id': 96, 'city': 'Hunterville'}, '18': {'id': 21, 'city': 'Port Michaelchester'}, '19': {'id': 5, 'city': 'East Kimberlyhaven'}, '20': {'id': 70, 'city': 'Kevinton'}, '21': {'id': 18, 'city': 'Lindsayside'}, '22': {'id': 72, 'city': 'Seanland'}, '23': {'id': 72, 'city': 'East Shawnview'}, '24': {'id': 36, 'city': 'Jacquelinemouth'}, '25': {'id': 88, 'city': 'Stephenmouth'}, '26': {'id': 18, 'city': 'Josephville'}, '27': {'id': 15, 'city': 'Porterview'}, '28': {'id': 77, 'city': 'Birdside'}, '29': {'id': 48, 'city': 'Port Williamland'}, '30': {'id': 58, 'city': 'New Kendrashire'}, '31': {'id': 46, 'city': 'West Andrew'}, '32': {'id': 71, 'city': 'East Ashleybury'}, '33': {'id': 78, 'city': 'Port Stephenview'}, '34': {'id': 3, 'city': 'New Lisachester'}, '35': {'id': 2, 'city': 'South Jessica'}, '36': {'id': 51, 'city': 'Gonzalezland'}, '37': {'id': 91, 'city': 'Port Carl'}, '38': {'id': 73, 'city': 'South Josephside'}, '39': {'id': 92, 'city': 'Melissaburgh'}, '40': {'id': 73, 'city': 'West Paige'}, '41': {'id': 97, 'city': 'Carrfort'}, '42': {'id': 28, 'city': 'Paynemouth'}, '43': {'id': 86, 'city': 'Lake Lance'}, '44': {'id': 87, 'city': 'Smithhaven'}, '45': {'id': 79, 'city': 'Perryport'}, '46': {'id': 83, 'city': 'South Caitlinton'}, '47': {'id': 86, 'city': 'Port Patricia'}, '48': {'id': 1, 'city': 'Johnsonshire'}, '49': {'id': 67, 'city': 'Rubioport'}, '50': {'id': 44, 'city': 'Baxterhaven'}, '51': {'id': 63, 'city': 'Port Kenneth'}, '52': {'id': 56, 'city': 'Santiagofurt'}, '53': {'id': 8, 'city': 'South Jenniferton'}, '54': {'id': 80, 'city': 'West Scott'}, '55': {'id': 66, 'city': 'Garciaburgh'}, '56': {'id': 58, 'city': 'Brownton'}, '57': {'id': 94, 'city': 'Bradshawland'}, '58': {'id': 11, 'city': 'Huffland'}, '59': {'id': 39, 'city': 'Booneville'}, '60': {'id': 60, 'city': 'South Sean'}, '61': {'id': 83, 'city': 'Anthonyborough'}, '62': {'id': 34, 'city': 'Danielleborough'}, '63': {'id': 91, 'city': 'Harrisside'}, '64': {'id': 73, 'city': 'West Robert'}, '65': {'id': 61, 'city': 'East Melissa'}, '66': {'id': 86, 'city': 'Breannafort'}, '67': {'id': 59, 'city': 'Thomasburgh'}, '68': {'id': 98, 'city': 'Elizabethbury'}, '69': {'id': 78, 'city': 'Cindystad'}, '70': {'id': 82, 'city': 'Judithbury'}, '71': {'id': 64, 'city': 'Lake Sarah'}, '72': {'id': 2, 'city': 'Eileenland'}, '73': {'id': 84, 'city': 'Michaelaview'}, '74': {'id': 14, 'city': 'Lake Andre'}, '75': {'id': 10, 'city': 'Blanchardmouth'}, '76': {'id': 81, 'city': 'New Jacobmouth'}, '77': {'id': 62, 'city': 'Mayhaven'}, '78': {'id': 98, 'city': 'Lake Joe'}, '79': {'id': 21, 'city': 'Lake Mercedesstad'}, '80': {'id': 92, 'city': 'Landryhaven'}, '81': {'id': 98, 'city': 'North Carolside'}, '82': {'id': 43, 'city': 'Loritown'}, '83': {'id': 21, 'city': 'Port Joshua'}, '84': {'id': 46, 'city': 'East Loriport'}, '85': {'id': 24, 'city': 'Davisland'}, '86': {'id': 19, 'city': 'Ashleyport'}, '87': {'id': 17, 'city': 'Lake Kayla'}, '88': {'id': 66, 'city': 'South Lindsey'}, '89': {'id': 2, 'city': 'Martineztown'}, '90': {'id': 51, 'city': 'North Henry'}, '91': {'id': 77, 'city': 'Graychester'}, '92': {'id': 5, 'city': 'West Connieshire'}, '93': {'id': 51, 'city': 'East Brucemouth'}, '94': {'id': 13, 'city': 'South Edward'}, '95': {'id': 100, 'city': 'Randallton'}, '96': {'id': 19, 'city': 'Whiteport'}, '97': {'id': 54, 'city': 'Russobury'}, '98': {'id': 87, 'city': 'North Cesarberg'}, '99': {'id': 30, 'city': 'New Fernandostad'}}\n"
     ]
    }
   ],
   "source": [
    "with open('newjson.json', 'r') as f:\n",
    "    data = json.load(f)\n",
    "    print(data)\n",
    "    "
   ]
  },
  {
   "cell_type": "code",
   "execution_count": null,
   "id": "da1006e3",
   "metadata": {},
   "outputs": [],
   "source": [
    "alldata ={}\n",
    "alldata['records'] = []"
   ]
  },
  {
   "cell_type": "code",
   "execution_count": null,
   "id": "468550cd",
   "metadata": {},
   "outputs": [],
   "source": [
    "for x in range(1000):\n",
    "    data = {'name':fake.name(), 'age':fake.random_int(max=100,min=18,step=1), 'street':fake.street_address(),\n",
    "            'city':fake.city(), 'state':fake.state(), 'zip':fake.zipcode(), \n",
    "            'lng':float(fake.longitude()), 'lat':float(fake.latitude())}\n",
    "    alldata['records'].append(data)"
   ]
  },
  {
   "cell_type": "code",
   "execution_count": null,
   "id": "89c520b0",
   "metadata": {},
   "outputs": [],
   "source": [
    "print(alldata['records'])"
   ]
  },
  {
   "cell_type": "code",
   "execution_count": null,
   "id": "a659de70",
   "metadata": {},
   "outputs": [],
   "source": [
    "json.dump(alldata,output)"
   ]
  },
  {
   "cell_type": "code",
   "execution_count": 9,
   "id": "9632c964",
   "metadata": {},
   "outputs": [],
   "source": []
  },
  {
   "cell_type": "code",
   "execution_count": 11,
   "id": "4d6d55b7",
   "metadata": {},
   "outputs": [
    {
     "data": {
      "text/html": [
       "<div>\n",
       "<style scoped>\n",
       "    .dataframe tbody tr th:only-of-type {\n",
       "        vertical-align: middle;\n",
       "    }\n",
       "\n",
       "    .dataframe tbody tr th {\n",
       "        vertical-align: top;\n",
       "    }\n",
       "\n",
       "    .dataframe thead th {\n",
       "        text-align: right;\n",
       "    }\n",
       "</style>\n",
       "<table border=\"1\" class=\"dataframe\">\n",
       "  <thead>\n",
       "    <tr style=\"text-align: right;\">\n",
       "      <th></th>\n",
       "      <th>0</th>\n",
       "      <th>1</th>\n",
       "      <th>2</th>\n",
       "      <th>3</th>\n",
       "      <th>4</th>\n",
       "      <th>5</th>\n",
       "      <th>6</th>\n",
       "      <th>7</th>\n",
       "      <th>8</th>\n",
       "      <th>9</th>\n",
       "      <th>...</th>\n",
       "      <th>90</th>\n",
       "      <th>91</th>\n",
       "      <th>92</th>\n",
       "      <th>93</th>\n",
       "      <th>94</th>\n",
       "      <th>95</th>\n",
       "      <th>96</th>\n",
       "      <th>97</th>\n",
       "      <th>98</th>\n",
       "      <th>99</th>\n",
       "    </tr>\n",
       "  </thead>\n",
       "  <tbody>\n",
       "    <tr>\n",
       "      <th>id</th>\n",
       "      <td>35</td>\n",
       "      <td>33</td>\n",
       "      <td>79</td>\n",
       "      <td>66</td>\n",
       "      <td>47</td>\n",
       "      <td>88</td>\n",
       "      <td>72</td>\n",
       "      <td>50</td>\n",
       "      <td>50</td>\n",
       "      <td>2</td>\n",
       "      <td>...</td>\n",
       "      <td>84</td>\n",
       "      <td>43</td>\n",
       "      <td>69</td>\n",
       "      <td>60</td>\n",
       "      <td>40</td>\n",
       "      <td>44</td>\n",
       "      <td>43</td>\n",
       "      <td>4</td>\n",
       "      <td>32</td>\n",
       "      <td>26</td>\n",
       "    </tr>\n",
       "    <tr>\n",
       "      <th>city</th>\n",
       "      <td>Russellbury</td>\n",
       "      <td>Lake Lindabury</td>\n",
       "      <td>North Jamesberg</td>\n",
       "      <td>Guzmanmouth</td>\n",
       "      <td>Peterfort</td>\n",
       "      <td>Andrewbury</td>\n",
       "      <td>West Brianmouth</td>\n",
       "      <td>Pachecomouth</td>\n",
       "      <td>Harrisport</td>\n",
       "      <td>East Davidfort</td>\n",
       "      <td>...</td>\n",
       "      <td>Mcguireberg</td>\n",
       "      <td>Justinstad</td>\n",
       "      <td>South Stephanie</td>\n",
       "      <td>Marissaborough</td>\n",
       "      <td>Marshallshire</td>\n",
       "      <td>Port Cynthiaville</td>\n",
       "      <td>Allenburgh</td>\n",
       "      <td>Port Robert</td>\n",
       "      <td>South Sethberg</td>\n",
       "      <td>Heathertown</td>\n",
       "    </tr>\n",
       "  </tbody>\n",
       "</table>\n",
       "<p>2 rows × 100 columns</p>\n",
       "</div>"
      ],
      "text/plain": [
       "               0               1                2            3          4   \\\n",
       "id             35              33               79           66         47   \n",
       "city  Russellbury  Lake Lindabury  North Jamesberg  Guzmanmouth  Peterfort   \n",
       "\n",
       "              5                6             7           8               9   \\\n",
       "id            88               72            50          50               2   \n",
       "city  Andrewbury  West Brianmouth  Pachecomouth  Harrisport  East Davidfort   \n",
       "\n",
       "      ...           90          91               92              93  \\\n",
       "id    ...           84          43               69              60   \n",
       "city  ...  Mcguireberg  Justinstad  South Stephanie  Marissaborough   \n",
       "\n",
       "                 94                 95          96           97  \\\n",
       "id               40                 44          43            4   \n",
       "city  Marshallshire  Port Cynthiaville  Allenburgh  Port Robert   \n",
       "\n",
       "                  98           99  \n",
       "id                32           26  \n",
       "city  South Sethberg  Heathertown  \n",
       "\n",
       "[2 rows x 100 columns]"
      ]
     },
     "execution_count": 11,
     "metadata": {},
     "output_type": "execute_result"
    }
   ],
   "source": [
    "df3.head()"
   ]
  },
  {
   "cell_type": "code",
   "execution_count": null,
   "id": "ecc14150",
   "metadata": {},
   "outputs": [],
   "source": [
    "\n",
    "import pandas.io.json as pd_json"
   ]
  },
  {
   "cell_type": "code",
   "execution_count": null,
   "id": "8fc61fb6",
   "metadata": {},
   "outputs": [],
   "source": [
    "with open('myjson.json','r', encoding=\"utf8\") as f:\n",
    "    data = json.load(f)\n"
   ]
  },
  {
   "cell_type": "code",
   "execution_count": null,
   "id": "c27219cb",
   "metadata": {},
   "outputs": [],
   "source": [
    "data = pd_json.loads(f.read())"
   ]
  },
  {
   "cell_type": "code",
   "execution_count": null,
   "id": "7cbecee5",
   "metadata": {},
   "outputs": [],
   "source": [
    "df6 = pd_json.json_normalize(pd_json.loads(f.read()), record_path ='records')"
   ]
  },
  {
   "cell_type": "code",
   "execution_count": null,
   "id": "f66cbcef",
   "metadata": {},
   "outputs": [],
   "source": []
  }
 ],
 "metadata": {
  "kernelspec": {
   "display_name": "Python 3",
   "language": "python",
   "name": "python3"
  },
  "language_info": {
   "codemirror_mode": {
    "name": "ipython",
    "version": 3
   },
   "file_extension": ".py",
   "mimetype": "text/x-python",
   "name": "python",
   "nbconvert_exporter": "python",
   "pygments_lexer": "ipython3",
   "version": "3.6.9"
  }
 },
 "nbformat": 4,
 "nbformat_minor": 5
}
