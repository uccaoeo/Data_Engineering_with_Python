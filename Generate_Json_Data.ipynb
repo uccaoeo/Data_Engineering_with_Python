{
 "cells": [
  {
   "cell_type": "code",
   "execution_count": 1,
   "id": "09e95149",
   "metadata": {},
   "outputs": [],
   "source": [
    "import pandas as pd\n",
    "import random\n",
    "from faker import Faker\n",
    "import csv\n",
    "import json"
   ]
  },
  {
   "cell_type": "code",
   "execution_count": 12,
   "id": "9b348894",
   "metadata": {},
   "outputs": [],
   "source": [
    "fake = Faker()\n",
    "# This correctly generates our json file/\n",
    "customer = {}\n",
    "for n in range(0, 10):\n",
    "    customer[n] = {}\n",
    "    customer[n]['id'] = fake.random_int(max=100, min=1, step=1)\n",
    "    customer[n]['city'] = fake.city()\n",
    "    with open('newjson.json', 'w') as fp:\n",
    "         json.dump(customer, fp)\n",
    "    "
   ]
  },
  {
   "cell_type": "code",
   "execution_count": 13,
   "id": "0211934a",
   "metadata": {},
   "outputs": [
    {
     "name": "stdout",
     "output_type": "stream",
     "text": [
      "{'0': {'id': 21, 'city': 'Clarkberg'}, '1': {'id': 52, 'city': 'West Laurenton'}, '2': {'id': 43, 'city': 'South Markchester'}, '3': {'id': 80, 'city': 'East Fernandoside'}, '4': {'id': 65, 'city': 'West Amyhaven'}, '5': {'id': 10, 'city': 'Nicolebury'}, '6': {'id': 33, 'city': 'North Scottborough'}, '7': {'id': 14, 'city': 'South Nicholas'}, '8': {'id': 29, 'city': 'West John'}, '9': {'id': 74, 'city': 'Keithport'}}\n"
     ]
    }
   ],
   "source": [
    "with open('newjson.json', 'r') as f:\n",
    "    data = json.load(f)\n",
    "    print(data)\n",
    "    "
   ]
  },
  {
   "cell_type": "code",
   "execution_count": 44,
   "id": "602b98d4",
   "metadata": {},
   "outputs": [],
   "source": [
    "customer = {}\n",
    "customer['name'] = {}\n",
    "customer['age'] = {}\n",
    "customer['street'] = {}\n",
    "customer['city'] = {}\n",
    "customer['state'] = {}\n",
    "customer['zip'] = {}\n",
    "customer['lng'] = {}\n",
    "customer['lat'] = {}\n",
    "for n in range(0,100): \n",
    "    customer['name'][n] = fake.name()\n",
    "    customer['age'][n] = fake.random_int(max=80, min=18, step=1)\n",
    "    customer['street'][n] = fake.street_address()\n",
    "    customer['city'][n] = fake.city()\n",
    "    customer['state'][n] = fake.state()\n",
    "    customer['zip'][n] = fake.zipcode()\n",
    "    customer['lng'][n] = float(fake.longitude())\n",
    "    customer['lat'][n] = float(fake.latitude())\n",
    "    with open('newestjson.json', 'w') as fp:\n",
    "         json.dump(customer, fp)\n",
    "    "
   ]
  },
  {
   "cell_type": "code",
   "execution_count": 45,
   "id": "56c31ac0",
   "metadata": {},
   "outputs": [
    {
     "name": "stdout",
     "output_type": "stream",
     "text": [
      "{'name': {'0': 'Christina Perkins', '1': 'Benjamin Ware', '2': 'Marilyn Collins', '3': 'Matthew Owens', '4': 'Crystal Dunn', '5': 'Oscar Kidd', '6': 'Jennifer Davis', '7': 'Travis Vega', '8': 'Edward Snyder', '9': 'Erin Jackson', '10': 'Sandra Hubbard', '11': 'Kristin Reyes', '12': 'Allison Perez', '13': 'Wendy Koch', '14': 'Matthew Humphrey', '15': 'Patricia Hunt', '16': 'Sandra Young', '17': 'Shelley Anderson', '18': 'Brian Greene', '19': 'Samantha Pierce', '20': 'Christopher Phillips', '21': 'Terry Smith', '22': 'Jonathan Reyes', '23': 'Michael Macdonald', '24': 'Scott Wolf', '25': 'Lisa Harper', '26': 'Robert Mcgrath', '27': 'Phillip Williams', '28': 'Stephen Burke', '29': 'Seth Lawson', '30': 'Austin Richards', '31': 'Danielle Moss', '32': 'Randy Lamb', '33': 'Jeffrey Marsh', '34': 'William Hess', '35': 'Andrew Long', '36': 'Sabrina Noble', '37': 'Susan Hernandez', '38': 'Alex Hudson', '39': 'Tracy Cook', '40': 'Amanda Anderson', '41': 'Sarah Thomas', '42': 'Michele Singh', '43': 'Ryan Davis', '44': 'Heather Anderson', '45': 'Connie Maxwell', '46': 'Jennifer Moore', '47': 'Patricia Bender', '48': 'Jennifer Rojas', '49': 'Jerry Collins', '50': 'Claudia Lopez', '51': 'James Fox', '52': 'Jennifer Robertson', '53': 'Melanie Cuevas', '54': 'David Jones', '55': 'Erin Moore', '56': 'Tanya Vance MD', '57': 'Sandra Perry', '58': 'Michael Edwards', '59': 'Mary Larson', '60': 'Ricky Flynn', '61': 'Lauren Fischer', '62': 'Valerie Harris', '63': 'Melissa Campbell', '64': 'Shane Thompson', '65': 'Joseph Hodge', '66': 'Michele Harris', '67': 'Ashley Martin', '68': 'Charles Crosby', '69': 'Debra Bartlett', '70': 'Kimberly Tucker', '71': 'Amanda Davis', '72': 'Melanie Crawford', '73': 'Michael White', '74': 'Dawn Edwards', '75': 'Scott Hall', '76': 'Lindsey Yates', '77': 'Susan Nunez', '78': 'Felicia White', '79': 'Linda Edwards', '80': 'Dawn Scott', '81': 'Mariah Nguyen', '82': 'Douglas Mason', '83': 'Christopher Edwards', '84': 'Elizabeth Pruitt', '85': 'Jeremy Hart', '86': 'Cristina Owen', '87': 'Tina Gutierrez', '88': 'Daniel Oneal', '89': 'Richard Smith', '90': 'Timothy Parsons', '91': 'Amanda Miller', '92': 'Kylie Blair', '93': 'David Vaughn', '94': 'Julian Ferguson', '95': 'Tiffany Weeks', '96': 'Antonio Reid', '97': 'Olivia Mccarthy', '98': 'Jessica Smith', '99': 'Latoya Adams'}, 'age': {'0': 66, '1': 25, '2': 44, '3': 40, '4': 41, '5': 60, '6': 54, '7': 18, '8': 44, '9': 61, '10': 78, '11': 29, '12': 69, '13': 74, '14': 39, '15': 33, '16': 68, '17': 55, '18': 55, '19': 25, '20': 46, '21': 79, '22': 25, '23': 67, '24': 80, '25': 54, '26': 48, '27': 63, '28': 68, '29': 58, '30': 46, '31': 78, '32': 77, '33': 24, '34': 29, '35': 74, '36': 22, '37': 56, '38': 74, '39': 80, '40': 77, '41': 22, '42': 34, '43': 61, '44': 30, '45': 18, '46': 66, '47': 55, '48': 55, '49': 62, '50': 28, '51': 76, '52': 64, '53': 34, '54': 35, '55': 18, '56': 56, '57': 50, '58': 56, '59': 70, '60': 37, '61': 23, '62': 71, '63': 62, '64': 25, '65': 80, '66': 49, '67': 59, '68': 75, '69': 79, '70': 44, '71': 77, '72': 29, '73': 58, '74': 37, '75': 64, '76': 60, '77': 37, '78': 73, '79': 41, '80': 38, '81': 35, '82': 27, '83': 80, '84': 54, '85': 35, '86': 21, '87': 73, '88': 46, '89': 58, '90': 51, '91': 51, '92': 39, '93': 49, '94': 33, '95': 38, '96': 39, '97': 26, '98': 54, '99': 78}, 'street': {'0': '7949 Virginia Plains', '1': '339 Martinez Grove', '2': '49724 Patricia Plaza Apt. 872', '3': '2558 Leslie Path', '4': '680 Gordon Station', '5': '6092 Jennifer Gardens Suite 463', '6': '40287 Crystal Crossing', '7': '103 Cory Parkways', '8': '637 Taylor Green', '9': '2349 Christian Cove Apt. 933', '10': '6278 Higgins Route Suite 547', '11': '2619 Anthony Flat Apt. 455', '12': '3121 Johnson Plain', '13': '92699 Stacy Cliffs Apt. 719', '14': '05794 Shaw Terrace Suite 815', '15': '6488 Williams Cove Apt. 704', '16': '630 Adam Forges', '17': '3745 Jeffrey Ports Apt. 033', '18': '5808 Baker Mall', '19': '63471 Vanessa Courts', '20': '333 Galvan Glen Suite 692', '21': '12854 Henderson Greens Suite 167', '22': '83200 Stephen Route Apt. 135', '23': '5972 Paula Village Apt. 687', '24': '889 Cooper Freeway Apt. 897', '25': '2106 Thompson Mountains Apt. 575', '26': '9614 Kidd Neck', '27': '159 Gonzalez Lights', '28': '786 Bowman Pines Suite 265', '29': '518 Evan Hill Suite 626', '30': '1564 Jeffrey Groves Apt. 009', '31': '4856 Howard Ville Apt. 674', '32': '12779 Davidson Summit Suite 620', '33': '167 Mann Club', '34': '501 Kayla Mall', '35': '33018 Wilkerson Heights Suite 385', '36': '70975 Baldwin Passage', '37': '254 Christopher Village Suite 931', '38': '6794 Berry Crossroad Suite 489', '39': '314 Sherry Point Suite 650', '40': '59294 Bowen Station', '41': '07120 Julia Views Suite 857', '42': '23373 Hutchinson Gateway Suite 724', '43': '94110 Hurley Plain Suite 410', '44': '75380 Tiffany Shoal Apt. 423', '45': '74201 Elizabeth Springs Apt. 636', '46': '863 Alexis Overpass Suite 856', '47': '42879 Matthew Mountain Suite 181', '48': '9591 Kevin River Apt. 550', '49': '737 Daniel Land', '50': '24675 Michael Trace Apt. 757', '51': '93026 Coleman Turnpike Apt. 419', '52': '276 West Causeway Suite 140', '53': '3083 Kristi Throughway', '54': '64620 Gomez Valley Apt. 273', '55': '46103 Paul Estate Apt. 910', '56': '987 Griffith Streets', '57': '092 Davis Parks Suite 936', '58': '3089 Robert Parkway', '59': '7738 Barrett Circles', '60': '1278 Smith Grove', '61': '867 Smith Divide', '62': '60577 Price Garden Suite 218', '63': '108 Ellis Light', '64': '268 Hebert Cliffs', '65': '89042 Flores Shoals Apt. 710', '66': '2319 Oneal Lane Apt. 291', '67': '2706 Ward Plains Apt. 435', '68': '8466 Jennifer Mountain', '69': '36381 Freeman Avenue', '70': '4547 Jennifer Groves', '71': '27638 Shannon Wells', '72': '3531 Michael Motorway', '73': '88753 Christian Ridge Suite 499', '74': '6306 Swanson Islands Apt. 232', '75': '3234 Cox Place Apt. 821', '76': '4284 Willie Ford Apt. 659', '77': '1625 Gary Circle Suite 890', '78': '85242 Wagner Key', '79': '3361 Patrick Circle', '80': '6404 David Springs Apt. 501', '81': '57272 Gonzalez Village', '82': '74919 James Rest Suite 801', '83': '210 Harris Wells Suite 733', '84': '574 Jacob Station Suite 121', '85': '023 Brian Court', '86': '15339 Brandi Knolls Apt. 250', '87': '49774 Allen Stravenue', '88': '58049 Brooks Vista', '89': '31476 Miller Center', '90': '74175 Bradley Burgs Apt. 929', '91': '295 Lopez Turnpike Suite 561', '92': '49593 Sherri Street Apt. 025', '93': '227 Stewart Mountain', '94': '231 Morris Squares', '95': '735 Munoz Plaza Suite 150', '96': '890 Holly Loaf Apt. 745', '97': '4718 Mora Cape Apt. 659', '98': '4420 Nancy Villages Apt. 435', '99': '13515 David Rue'}, 'city': {'0': 'North Travis', '1': 'New Timothy', '2': 'West Anthonyborough', '3': 'Rogersport', '4': 'South Kenneth', '5': 'East Latasha', '6': 'Port Kevinhaven', '7': 'Lake Amanda', '8': 'Gallowayfort', '9': 'North Ashleytown', '10': 'Snyderstad', '11': 'Vanessamouth', '12': 'Goodmanstad', '13': 'Bairdland', '14': 'Juliebury', '15': 'Russellshire', '16': 'South Michaelchester', '17': 'Lake Brookemouth', '18': 'Port Alicia', '19': 'Sherylview', '20': 'East Kendraport', '21': 'Montesborough', '22': 'Payneburgh', '23': 'East Tina', '24': 'Williamshire', '25': 'South Michealchester', '26': 'East Kaitlynfort', '27': 'Port Samuel', '28': 'Port Kristy', '29': 'South Stephen', '30': 'Lake Destiny', '31': 'West Willie', '32': 'Martinbury', '33': 'New Josephburgh', '34': 'Port Alexander', '35': 'North Alejandroview', '36': 'Arnoldshire', '37': 'South Christinaview', '38': 'North Sheila', '39': 'Shellytown', '40': 'West Christophershire', '41': 'Conniefurt', '42': 'Claytonmouth', '43': 'Collinsmouth', '44': 'Monicashire', '45': 'Port Deborah', '46': 'Reidberg', '47': 'Huffhaven', '48': 'Michaelstad', '49': 'Matthewfort', '50': 'Port Corey', '51': 'South Janetshire', '52': 'Debbieburgh', '53': 'West Robertville', '54': 'Cruzstad', '55': 'Jasmineland', '56': 'Amandatown', '57': 'Port Jennifer', '58': 'Lindaland', '59': 'West Andrewmouth', '60': 'Lake Jayfort', '61': 'Cooperburgh', '62': 'Lechester', '63': 'Calvinmouth', '64': 'Holtmouth', '65': 'Josephton', '66': 'Christopherchester', '67': 'East Courtneybury', '68': 'Tapialand', '69': 'Dunnton', '70': 'Port Richard', '71': 'Woodsmouth', '72': 'South Joshuahaven', '73': 'Brandonburgh', '74': 'Port Amberburgh', '75': 'East Sara', '76': 'East Marcus', '77': 'West Cheryl', '78': 'East Evan', '79': 'South Cheryl', '80': 'South Stevenberg', '81': 'Lancehaven', '82': 'Wutown', '83': 'New Shannonmouth', '84': 'South Andrewview', '85': 'New Thomas', '86': 'Sarahstad', '87': 'Gardnerborough', '88': 'Stoneville', '89': 'Valdezmouth', '90': 'Nathanielton', '91': 'Parkerville', '92': 'Port Tammie', '93': 'Mercadoside', '94': 'Smithside', '95': 'Jessicaberg', '96': 'North Amanda', '97': 'South Danielton', '98': 'Debbieshire', '99': 'New Carolyn'}, 'state': {'0': 'Minnesota', '1': 'Massachusetts', '2': 'Alabama', '3': 'New Jersey', '4': 'New Mexico', '5': 'North Carolina', '6': 'New Mexico', '7': 'Michigan', '8': 'Kansas', '9': 'Arkansas', '10': 'Wisconsin', '11': 'Mississippi', '12': 'Indiana', '13': 'West Virginia', '14': 'Louisiana', '15': 'Washington', '16': 'Virginia', '17': 'New Hampshire', '18': 'Montana', '19': 'Tennessee', '20': 'Oregon', '21': 'West Virginia', '22': 'Maryland', '23': 'Mississippi', '24': 'Arizona', '25': 'South Carolina', '26': 'North Carolina', '27': 'Texas', '28': 'Arizona', '29': 'Oklahoma', '30': 'Georgia', '31': 'Ohio', '32': 'Rhode Island', '33': 'Alaska', '34': 'Arizona', '35': 'Montana', '36': 'Kansas', '37': 'Alaska', '38': 'Vermont', '39': 'North Dakota', '40': 'Iowa', '41': 'Oregon', '42': 'Arkansas', '43': 'Wisconsin', '44': 'Utah', '45': 'Washington', '46': 'South Dakota', '47': 'Nebraska', '48': 'Hawaii', '49': 'Delaware', '50': 'North Carolina', '51': 'Kansas', '52': 'Pennsylvania', '53': 'Arizona', '54': 'Minnesota', '55': 'Kansas', '56': 'Massachusetts', '57': 'Arkansas', '58': 'Georgia', '59': 'Wyoming', '60': 'Rhode Island', '61': 'Pennsylvania', '62': 'Kansas', '63': 'North Carolina', '64': 'Massachusetts', '65': 'Iowa', '66': 'Indiana', '67': 'Nebraska', '68': 'Illinois', '69': 'Maine', '70': 'North Carolina', '71': 'Illinois', '72': 'Connecticut', '73': 'California', '74': 'Kentucky', '75': 'Oklahoma', '76': 'Connecticut', '77': 'Pennsylvania', '78': 'Virginia', '79': 'Georgia', '80': 'Missouri', '81': 'Louisiana', '82': 'Arizona', '83': 'Georgia', '84': 'California', '85': 'Texas', '86': 'Missouri', '87': 'Idaho', '88': 'Oklahoma', '89': 'Oregon', '90': 'Louisiana', '91': 'Maine', '92': 'Texas', '93': 'Nevada', '94': 'Arkansas', '95': 'South Dakota', '96': 'New Mexico', '97': 'Delaware', '98': 'Nevada', '99': 'Florida'}, 'zip': {'0': '78251', '1': '97574', '2': '93710', '3': '70109', '4': '51716', '5': '89144', '6': '50074', '7': '41274', '8': '93033', '9': '58609', '10': '41021', '11': '88468', '12': '10119', '13': '60172', '14': '63222', '15': '03836', '16': '38215', '17': '20417', '18': '22292', '19': '19449', '20': '73529', '21': '10019', '22': '37821', '23': '75856', '24': '17953', '25': '26020', '26': '61733', '27': '57477', '28': '39980', '29': '69627', '30': '20405', '31': '08344', '32': '12253', '33': '75527', '34': '38952', '35': '98667', '36': '96971', '37': '45396', '38': '07007', '39': '06892', '40': '31448', '41': '96322', '42': '97596', '43': '31228', '44': '14533', '45': '79246', '46': '28606', '47': '82450', '48': '68556', '49': '68707', '50': '52520', '51': '62343', '52': '76689', '53': '05903', '54': '73910', '55': '13973', '56': '19243', '57': '35047', '58': '52299', '59': '59925', '60': '58710', '61': '24634', '62': '96233', '63': '35419', '64': '82486', '65': '11984', '66': '37722', '67': '68102', '68': '65202', '69': '37997', '70': '18399', '71': '68032', '72': '02545', '73': '33093', '74': '18357', '75': '21830', '76': '98534', '77': '85892', '78': '85728', '79': '94685', '80': '48153', '81': '62208', '82': '78235', '83': '27963', '84': '44211', '85': '03276', '86': '04302', '87': '46290', '88': '20710', '89': '59443', '90': '03241', '91': '30656', '92': '50823', '93': '39647', '94': '20670', '95': '54461', '96': '91045', '97': '37450', '98': '05501', '99': '69124'}, 'lng': {'0': -123.577725, '1': -57.365996, '2': -89.967212, '3': 106.5728, '4': 158.126314, '5': -5.569155, '6': -154.736416, '7': -83.733932, '8': 61.704275, '9': 15.080035, '10': 39.192486, '11': -167.042144, '12': -36.656736, '13': 48.01368, '14': 89.318065, '15': 27.63112, '16': 62.138312, '17': 25.79278, '18': -118.422975, '19': 163.335605, '20': 64.120032, '21': -112.52459, '22': -33.53089, '23': 146.781158, '24': -47.021505, '25': -0.891562, '26': 177.124527, '27': 173.53401, '28': -158.601661, '29': 2.423708, '30': -178.540127, '31': 125.243126, '32': 23.668616, '33': 42.579204, '34': 96.275855, '35': 53.345491, '36': -113.847076, '37': -2.293953, '38': -28.479342, '39': -70.117341, '40': 172.582359, '41': -175.285766, '42': -161.659482, '43': -87.614134, '44': -103.450703, '45': -40.199899, '46': 47.454634, '47': -95.778769, '48': -99.562226, '49': 80.300967, '50': -165.728403, '51': 112.135863, '52': -14.058919, '53': -136.832137, '54': 13.723532, '55': 1.071567, '56': -55.834247, '57': 40.606183, '58': 159.271541, '59': 83.071423, '60': 114.570021, '61': 114.832151, '62': 124.29596, '63': 167.9186, '64': -54.506621, '65': -52.586959, '66': -97.328925, '67': -82.826975, '68': 125.116662, '69': -57.754269, '70': -150.009556, '71': 108.175709, '72': 82.783448, '73': 112.099389, '74': 170.239912, '75': 5.832431, '76': 74.007631, '77': 90.005023, '78': -114.625965, '79': -2.133378, '80': -121.806956, '81': -96.253831, '82': 85.150314, '83': -16.560084, '84': 154.389122, '85': 110.48102, '86': -151.568766, '87': -147.548962, '88': 13.139448, '89': 29.653965, '90': -50.181205, '91': -119.251545, '92': 104.258866, '93': -116.217412, '94': 114.008843, '95': -24.239841, '96': -72.373404, '97': 10.265747, '98': 116.012137, '99': -135.637194}, 'lat': {'0': 72.13086, '1': 55.7339525, '2': 33.16495, '3': 26.6113035, '4': -59.335921, '5': -25.0439615, '6': 37.213695, '7': -69.781046, '8': 56.5848415, '9': -42.726507, '10': 28.6408935, '11': 84.6220265, '12': 87.4477705, '13': 83.444316, '14': -62.1586265, '15': -74.9465505, '16': 83.609017, '17': 77.033672, '18': -60.798923, '19': -38.407896, '20': 51.523591, '21': -0.8351975, '22': -40.333764, '23': 47.6204595, '24': -42.5460995, '25': 42.9977905, '26': 0.4729455, '27': -29.842237, '28': 38.2087185, '29': 87.450328, '30': -4.5231665, '31': -31.742662, '32': -76.658924, '33': 21.1496625, '34': 67.8768205, '35': 0.4879505, '36': 64.1454315, '37': 45.7417745, '38': 24.8590095, '39': 46.094706, '40': 50.1275325, '41': 13.979374, '42': 61.003822, '43': -42.720862, '44': -64.4274865, '45': -6.8903805, '46': -64.950703, '47': -21.18813, '48': -23.3633355, '49': -20.5853705, '50': 50.3305125, '51': -89.9625, '52': -55.865366, '53': -13.127291, '54': 83.7249145, '55': -39.770781, '56': -76.707934, '57': -16.4659795, '58': -89.745049, '59': 84.4575135, '60': 27.387182, '61': -86.665981, '62': 10.9022395, '63': 24.5557515, '64': 75.0330585, '65': -28.723244, '66': 30.29506, '67': -21.269347, '68': 80.9435935, '69': 52.3331195, '70': -87.6484555, '71': -20.922684, '72': 36.1202985, '73': 21.8691675, '74': -33.529043, '75': 48.420158, '76': -74.0847525, '77': -38.0273835, '78': 5.72019, '79': -83.2342445, '80': -60.486181, '81': -5.865435, '82': -5.290758, '83': -44.602289, '84': 6.169406, '85': -20.4201405, '86': 32.5677765, '87': 40.0827305, '88': 78.331231, '89': -49.2109865, '90': -44.9075885, '91': -12.076499, '92': -27.912744, '93': -53.3749, '94': -8.031013, '95': -4.648494, '96': 11.487642, '97': 69.048854, '98': 2.9921285, '99': -70.7100285}}\n"
     ]
    }
   ],
   "source": [
    "with open('newestjson.json', 'r') as f:\n",
    "    data = json.load(f)\n",
    "    print(data)"
   ]
  },
  {
   "cell_type": "code",
   "execution_count": 46,
   "id": "fe2a49c5",
   "metadata": {},
   "outputs": [
    {
     "data": {
      "text/plain": [
       "'{\"name\":{\"0\":\"Christina Perkins\",\"1\":\"Benjamin Ware\"},\"age\":{\"0\":66,\"1\":25},\"street\":{\"0\":\"7949 Virginia Plains\",\"1\":\"339 Martinez Grove\"},\"city\":{\"0\":\"North Travis\",\"1\":\"New Timothy\"},\"state\":{\"0\":\"Minnesota\",\"1\":\"Massachusetts\"},\"zip\":{\"0\":78251,\"1\":97574},\"lng\":{\"0\":-123.577725,\"1\":-57.365996},\"lat\":{\"0\":72.13086,\"1\":55.7339525}}'"
      ]
     },
     "execution_count": 46,
     "metadata": {},
     "output_type": "execute_result"
    }
   ],
   "source": [
    "df = pd.read_json('newestjson.json')\n",
    "df.head(2).to_json()"
   ]
  },
  {
   "cell_type": "code",
   "execution_count": 47,
   "id": "5135b86c",
   "metadata": {},
   "outputs": [
    {
     "data": {
      "text/plain": [
       "'[{\"name\":\"Christina Perkins\",\"age\":66,\"street\":\"7949 Virginia Plains\",\"city\":\"North Travis\",\"state\":\"Minnesota\",\"zip\":78251,\"lng\":-123.577725,\"lat\":72.13086},{\"name\":\"Benjamin Ware\",\"age\":25,\"street\":\"339 Martinez Grove\",\"city\":\"New Timothy\",\"state\":\"Massachusetts\",\"zip\":97574,\"lng\":-57.365996,\"lat\":55.7339525}]'"
      ]
     },
     "execution_count": 47,
     "metadata": {},
     "output_type": "execute_result"
    }
   ],
   "source": [
    "df.head(2).to_json(orient='records')"
   ]
  }
 ],
 "metadata": {
  "kernelspec": {
   "display_name": "Python 3",
   "language": "python",
   "name": "python3"
  },
  "language_info": {
   "codemirror_mode": {
    "name": "ipython",
    "version": 3
   },
   "file_extension": ".py",
   "mimetype": "text/x-python",
   "name": "python",
   "nbconvert_exporter": "python",
   "pygments_lexer": "ipython3",
   "version": "3.6.9"
  }
 },
 "nbformat": 4,
 "nbformat_minor": 5
}
